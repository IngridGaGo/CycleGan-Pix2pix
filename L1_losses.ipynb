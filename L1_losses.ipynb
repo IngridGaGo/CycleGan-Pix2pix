{
 "cells": [
  {
   "cell_type": "markdown",
   "id": "521c9934-d950-4045-9cdc-dc76338b4afb",
   "metadata": {},
   "source": [
    "Based on https://github.com/sebasmos/vcg/blob/main/Training_Plot_With_Loss/Plotting_Loss.ipynb "
   ]
  },
  {
   "cell_type": "code",
   "execution_count": 11,
   "id": "acee08c9-fd4c-442b-ba9a-5b1ec68bfb20",
   "metadata": {},
   "outputs": [],
   "source": [
    "import pickle\n",
    "with open('loss.pkl', 'rb') as f:\n",
    "    Loss_per_epoch = pickle.load(f)"
   ]
  },
  {
   "cell_type": "code",
   "execution_count": 12,
   "id": "efb6bdae-432e-44f4-9be4-5b84d3129b42",
   "metadata": {},
   "outputs": [
    {
     "data": {
      "text/plain": [
       "180"
      ]
     },
     "execution_count": 12,
     "metadata": {},
     "output_type": "execute_result"
    }
   ],
   "source": [
    "len(Loss_per_epoch)"
   ]
  },
  {
   "cell_type": "code",
   "execution_count": 13,
   "id": "9ea42728-2333-475b-947d-c5ebda9e8b22",
   "metadata": {},
   "outputs": [
    {
     "data": {
      "text/plain": [
       "4"
      ]
     },
     "execution_count": 13,
     "metadata": {},
     "output_type": "execute_result"
    }
   ],
   "source": [
    "len(Loss_per_epoch[0])"
   ]
  },
  {
   "cell_type": "code",
   "execution_count": 14,
   "id": "f67faca2-f534-480b-9567-99bb1aa8303d",
   "metadata": {},
   "outputs": [
    {
     "data": {
      "text/html": [
       "<div>\n",
       "<style scoped>\n",
       "    .dataframe tbody tr th:only-of-type {\n",
       "        vertical-align: middle;\n",
       "    }\n",
       "\n",
       "    .dataframe tbody tr th {\n",
       "        vertical-align: top;\n",
       "    }\n",
       "\n",
       "    .dataframe thead th {\n",
       "        text-align: right;\n",
       "    }\n",
       "</style>\n",
       "<table border=\"1\" class=\"dataframe\">\n",
       "  <thead>\n",
       "    <tr style=\"text-align: right;\">\n",
       "      <th></th>\n",
       "      <th>0</th>\n",
       "      <th>1</th>\n",
       "      <th>2</th>\n",
       "      <th>3</th>\n",
       "    </tr>\n",
       "  </thead>\n",
       "  <tbody>\n",
       "    <tr>\n",
       "      <th>0</th>\n",
       "      <td>15.036156</td>\n",
       "      <td>9.567479</td>\n",
       "      <td>18.389144</td>\n",
       "      <td>1</td>\n",
       "    </tr>\n",
       "    <tr>\n",
       "      <th>1</th>\n",
       "      <td>14.294000</td>\n",
       "      <td>9.376477</td>\n",
       "      <td>18.363046</td>\n",
       "      <td>2</td>\n",
       "    </tr>\n",
       "    <tr>\n",
       "      <th>2</th>\n",
       "      <td>14.013359</td>\n",
       "      <td>9.311526</td>\n",
       "      <td>18.348426</td>\n",
       "      <td>3</td>\n",
       "    </tr>\n",
       "    <tr>\n",
       "      <th>3</th>\n",
       "      <td>13.690753</td>\n",
       "      <td>9.262452</td>\n",
       "      <td>18.288529</td>\n",
       "      <td>4</td>\n",
       "    </tr>\n",
       "    <tr>\n",
       "      <th>4</th>\n",
       "      <td>13.477239</td>\n",
       "      <td>9.227215</td>\n",
       "      <td>18.200016</td>\n",
       "      <td>5</td>\n",
       "    </tr>\n",
       "    <tr>\n",
       "      <th>...</th>\n",
       "      <td>...</td>\n",
       "      <td>...</td>\n",
       "      <td>...</td>\n",
       "      <td>...</td>\n",
       "    </tr>\n",
       "    <tr>\n",
       "      <th>175</th>\n",
       "      <td>11.994582</td>\n",
       "      <td>7.545085</td>\n",
       "      <td>12.098843</td>\n",
       "      <td>176</td>\n",
       "    </tr>\n",
       "    <tr>\n",
       "      <th>176</th>\n",
       "      <td>11.994508</td>\n",
       "      <td>7.543060</td>\n",
       "      <td>12.094490</td>\n",
       "      <td>177</td>\n",
       "    </tr>\n",
       "    <tr>\n",
       "      <th>177</th>\n",
       "      <td>11.996665</td>\n",
       "      <td>7.541204</td>\n",
       "      <td>12.090308</td>\n",
       "      <td>178</td>\n",
       "    </tr>\n",
       "    <tr>\n",
       "      <th>178</th>\n",
       "      <td>11.998247</td>\n",
       "      <td>7.539504</td>\n",
       "      <td>12.086731</td>\n",
       "      <td>179</td>\n",
       "    </tr>\n",
       "    <tr>\n",
       "      <th>179</th>\n",
       "      <td>11.999407</td>\n",
       "      <td>7.537579</td>\n",
       "      <td>12.082504</td>\n",
       "      <td>180</td>\n",
       "    </tr>\n",
       "  </tbody>\n",
       "</table>\n",
       "<p>180 rows × 4 columns</p>\n",
       "</div>"
      ],
      "text/plain": [
       "             0         1          2    3\n",
       "0    15.036156  9.567479  18.389144    1\n",
       "1    14.294000  9.376477  18.363046    2\n",
       "2    14.013359  9.311526  18.348426    3\n",
       "3    13.690753  9.262452  18.288529    4\n",
       "4    13.477239  9.227215  18.200016    5\n",
       "..         ...       ...        ...  ...\n",
       "175  11.994582  7.545085  12.098843  176\n",
       "176  11.994508  7.543060  12.094490  177\n",
       "177  11.996665  7.541204  12.090308  178\n",
       "178  11.998247  7.539504  12.086731  179\n",
       "179  11.999407  7.537579  12.082504  180\n",
       "\n",
       "[180 rows x 4 columns]"
      ]
     },
     "execution_count": 14,
     "metadata": {},
     "output_type": "execute_result"
    }
   ],
   "source": [
    "import pandas as pd\n",
    "import numpy as np\n",
    "import matplotlib.pyplot as plt\n",
    "df = pd.DataFrame(Loss_per_epoch)\n",
    "df"
   ]
  },
  {
   "cell_type": "code",
   "execution_count": 15,
   "id": "1fa231ed-cf1a-4fc7-998d-3982c35b325e",
   "metadata": {},
   "outputs": [],
   "source": [
    "n_ch= len(df.columns)"
   ]
  },
  {
   "cell_type": "code",
   "execution_count": 16,
   "id": "7dd3bd8f-57a6-4289-a63c-f3a5c53e650d",
   "metadata": {},
   "outputs": [
    {
     "data": {
      "text/html": [
       "<div>\n",
       "<style scoped>\n",
       "    .dataframe tbody tr th:only-of-type {\n",
       "        vertical-align: middle;\n",
       "    }\n",
       "\n",
       "    .dataframe tbody tr th {\n",
       "        vertical-align: top;\n",
       "    }\n",
       "\n",
       "    .dataframe thead th {\n",
       "        text-align: right;\n",
       "    }\n",
       "</style>\n",
       "<table border=\"1\" class=\"dataframe\">\n",
       "  <thead>\n",
       "    <tr style=\"text-align: right;\">\n",
       "      <th></th>\n",
       "      <th>0</th>\n",
       "      <th>1</th>\n",
       "      <th>2</th>\n",
       "      <th>3</th>\n",
       "    </tr>\n",
       "  </thead>\n",
       "  <tbody>\n",
       "    <tr>\n",
       "      <th>0</th>\n",
       "      <td>15.036156</td>\n",
       "      <td>9.567479</td>\n",
       "      <td>18.389144</td>\n",
       "      <td>1</td>\n",
       "    </tr>\n",
       "    <tr>\n",
       "      <th>1</th>\n",
       "      <td>14.294000</td>\n",
       "      <td>9.376477</td>\n",
       "      <td>18.363046</td>\n",
       "      <td>2</td>\n",
       "    </tr>\n",
       "    <tr>\n",
       "      <th>2</th>\n",
       "      <td>14.013359</td>\n",
       "      <td>9.311526</td>\n",
       "      <td>18.348426</td>\n",
       "      <td>3</td>\n",
       "    </tr>\n",
       "    <tr>\n",
       "      <th>3</th>\n",
       "      <td>13.690753</td>\n",
       "      <td>9.262452</td>\n",
       "      <td>18.288529</td>\n",
       "      <td>4</td>\n",
       "    </tr>\n",
       "    <tr>\n",
       "      <th>4</th>\n",
       "      <td>13.477239</td>\n",
       "      <td>9.227215</td>\n",
       "      <td>18.200016</td>\n",
       "      <td>5</td>\n",
       "    </tr>\n",
       "    <tr>\n",
       "      <th>...</th>\n",
       "      <td>...</td>\n",
       "      <td>...</td>\n",
       "      <td>...</td>\n",
       "      <td>...</td>\n",
       "    </tr>\n",
       "    <tr>\n",
       "      <th>175</th>\n",
       "      <td>11.994582</td>\n",
       "      <td>7.545085</td>\n",
       "      <td>12.098843</td>\n",
       "      <td>176</td>\n",
       "    </tr>\n",
       "    <tr>\n",
       "      <th>176</th>\n",
       "      <td>11.994508</td>\n",
       "      <td>7.543060</td>\n",
       "      <td>12.094490</td>\n",
       "      <td>177</td>\n",
       "    </tr>\n",
       "    <tr>\n",
       "      <th>177</th>\n",
       "      <td>11.996665</td>\n",
       "      <td>7.541204</td>\n",
       "      <td>12.090308</td>\n",
       "      <td>178</td>\n",
       "    </tr>\n",
       "    <tr>\n",
       "      <th>178</th>\n",
       "      <td>11.998247</td>\n",
       "      <td>7.539504</td>\n",
       "      <td>12.086731</td>\n",
       "      <td>179</td>\n",
       "    </tr>\n",
       "    <tr>\n",
       "      <th>179</th>\n",
       "      <td>11.999407</td>\n",
       "      <td>7.537579</td>\n",
       "      <td>12.082504</td>\n",
       "      <td>180</td>\n",
       "    </tr>\n",
       "  </tbody>\n",
       "</table>\n",
       "<p>180 rows × 4 columns</p>\n",
       "</div>"
      ],
      "text/plain": [
       "             0         1          2    3\n",
       "0    15.036156  9.567479  18.389144    1\n",
       "1    14.294000  9.376477  18.363046    2\n",
       "2    14.013359  9.311526  18.348426    3\n",
       "3    13.690753  9.262452  18.288529    4\n",
       "4    13.477239  9.227215  18.200016    5\n",
       "..         ...       ...        ...  ...\n",
       "175  11.994582  7.545085  12.098843  176\n",
       "176  11.994508  7.543060  12.094490  177\n",
       "177  11.996665  7.541204  12.090308  178\n",
       "178  11.998247  7.539504  12.086731  179\n",
       "179  11.999407  7.537579  12.082504  180\n",
       "\n",
       "[180 rows x 4 columns]"
      ]
     },
     "execution_count": 16,
     "metadata": {},
     "output_type": "execute_result"
    }
   ],
   "source": [
    "df.iloc[:,:n_ch]"
   ]
  },
  {
   "cell_type": "code",
   "execution_count": 17,
   "id": "c2c53356-5eeb-4c6c-9023-f23c595eb7db",
   "metadata": {},
   "outputs": [
    {
     "data": {
      "text/plain": [
       "4"
      ]
     },
     "execution_count": 17,
     "metadata": {},
     "output_type": "execute_result"
    }
   ],
   "source": [
    "n_ch"
   ]
  },
  {
   "cell_type": "code",
   "execution_count": 18,
   "id": "56b936b5-8a9d-4752-a6f7-051116442a9c",
   "metadata": {},
   "outputs": [
    {
     "data": {
      "image/png": "[encoded data removed]",
      "text/plain": [
       "<Figure size 720x720 with 1 Axes>"
      ]
     },
     "metadata": {},
     "output_type": "display_data"
    }
   ],
   "source": [
    "import seaborn as sns\n",
    "palette = sns.color_palette(\"husl\", (n_ch-1)) # https://seaborn.pydata.org/generated/seaborn.color_palette.html\n",
    "fig = plt.figure('fig_size', (10, 10))\n",
    "# Adding grid\n",
    "sns.set(style=\"ticks\")\n",
    "#sns.set_style(\"darkgrid\")#whitegrid\")# #https://seaborn.pydata.org/generated/seaborn.set_style.html\n",
    "sns.lineplot(data=df.iloc[:,:n_ch-1], \n",
    "             markers=True, \n",
    "             dashes=False, \n",
    "             palette=palette, \n",
    "             linewidth = 5)\n",
    "\n",
    "plt.legend(loc='lower right')\n",
    "plt.title(\"L1 per channel - L1{Fake_IF, Real_IF}\")\n",
    "plt.ylabel(\"Loss\")\n",
    "plt.xlabel(\"Epochs\")\n",
    "plt.grid()\n",
    "plt.show()\n",
    "plt.close('all')"
   ]
  },
  {
   "cell_type": "code",
   "execution_count": 19,
   "id": "8424ab20-83c3-40c1-ba11-fd9abb185c07",
   "metadata": {},
   "outputs": [
    {
     "data": {
      "image/png": "[encoded data removed]",
      "text/plain": [
       "<Figure size 720x720 with 1 Axes>"
      ]
     },
     "metadata": {},
     "output_type": "display_data"
    }
   ],
   "source": [
    "import seaborn as sns\n",
    "palette = sns.color_palette(\"husl\", n_ch-1) # https://seaborn.pydata.org/generated/seaborn.color_palette.html\n",
    "fig = plt.figure('fig_size', (10, 10))\n",
    "# Adding grid\n",
    "sns.set(style=\"ticks\")\n",
    "sns.set_style(\"darkgrid\")#whitegrid\")# #https://seaborn.pydata.org/generated/seaborn.set_style.html\n",
    "sns.lineplot(data=df.iloc[:,:n_ch-1], \n",
    "             markers=True, \n",
    "             dashes=False, \n",
    "             palette=palette, \n",
    "             linewidth = 5)\n",
    "\n",
    "plt.title(\"L1 per channel - L1{Fake_IF, Real_IF}\")\n",
    "plt.axhline(y=17.5 , color='red', linestyle='--', label=\"Limit\")\n",
    "plt.legend(loc='lower right')\n",
    "plt.ylabel(\"Loss\")\n",
    "plt.xlabel(\"Epochs\")\n",
    "#plt.grid()\n",
    "plt.savefig(\"loss1.png\", bbox_inches='tight', pad_inches=0)#, dpi = 64)\n",
    "plt.show()\n",
    "plt.close('all')"
   ]
  },
  {
   "cell_type": "code",
   "execution_count": 20,
   "id": "efd23fd3-dc51-40d2-bdb5-e6cb2acdbfb0",
   "metadata": {},
   "outputs": [
    {
     "ename": "IndexError",
     "evalue": "positional indexers are out-of-bounds",
     "output_type": "error",
     "traceback": [
      "\u001b[0;31m---------------------------------------------------------------------------\u001b[0m",
      "\u001b[0;31mIndexError\u001b[0m                                Traceback (most recent call last)",
      "\u001b[0;32m<ipython-input-20-ae6bc6f4db04>\u001b[0m in \u001b[0;36m<module>\u001b[0;34m\u001b[0m\n\u001b[1;32m      6\u001b[0m \u001b[0msns\u001b[0m\u001b[0;34m.\u001b[0m\u001b[0mset\u001b[0m\u001b[0;34m(\u001b[0m\u001b[0mstyle\u001b[0m\u001b[0;34m=\u001b[0m\u001b[0;34m\"ticks\"\u001b[0m\u001b[0;34m)\u001b[0m\u001b[0;34m\u001b[0m\u001b[0;34m\u001b[0m\u001b[0m\n\u001b[1;32m      7\u001b[0m \u001b[0msns\u001b[0m\u001b[0;34m.\u001b[0m\u001b[0mset_style\u001b[0m\u001b[0;34m(\u001b[0m\u001b[0;34m\"darkgrid\"\u001b[0m\u001b[0;34m)\u001b[0m\u001b[0;31m#whitegrid\")# #https://seaborn.pydata.org/generated/seaborn.set_style.html\u001b[0m\u001b[0;34m\u001b[0m\u001b[0;34m\u001b[0m\u001b[0m\n\u001b[0;32m----> 8\u001b[0;31m sns.lineplot(data=df.iloc[:,channels], \n\u001b[0m\u001b[1;32m      9\u001b[0m              \u001b[0mmarkers\u001b[0m\u001b[0;34m=\u001b[0m\u001b[0;32mTrue\u001b[0m\u001b[0;34m,\u001b[0m\u001b[0;34m\u001b[0m\u001b[0;34m\u001b[0m\u001b[0m\n\u001b[1;32m     10\u001b[0m              \u001b[0mdashes\u001b[0m\u001b[0;34m=\u001b[0m\u001b[0;32mFalse\u001b[0m\u001b[0;34m,\u001b[0m\u001b[0;34m\u001b[0m\u001b[0;34m\u001b[0m\u001b[0m\n",
      "\u001b[0;32m~/anaconda3/envs/sebasmos/lib/python3.6/site-packages/pandas/core/indexing.py\u001b[0m in \u001b[0;36m__getitem__\u001b[0;34m(self, key)\u001b[0m\n\u001b[1;32m    871\u001b[0m                     \u001b[0;31m# AttributeError for IntervalTree get_value\u001b[0m\u001b[0;34m\u001b[0m\u001b[0;34m\u001b[0m\u001b[0;34m\u001b[0m\u001b[0m\n\u001b[1;32m    872\u001b[0m                     \u001b[0;32mpass\u001b[0m\u001b[0;34m\u001b[0m\u001b[0;34m\u001b[0m\u001b[0m\n\u001b[0;32m--> 873\u001b[0;31m             \u001b[0;32mreturn\u001b[0m \u001b[0mself\u001b[0m\u001b[0;34m.\u001b[0m\u001b[0m_getitem_tuple\u001b[0m\u001b[0;34m(\u001b[0m\u001b[0mkey\u001b[0m\u001b[0;34m)\u001b[0m\u001b[0;34m\u001b[0m\u001b[0;34m\u001b[0m\u001b[0m\n\u001b[0m\u001b[1;32m    874\u001b[0m         \u001b[0;32melse\u001b[0m\u001b[0;34m:\u001b[0m\u001b[0;34m\u001b[0m\u001b[0;34m\u001b[0m\u001b[0m\n\u001b[1;32m    875\u001b[0m             \u001b[0;31m# we by definition only have the 0th axis\u001b[0m\u001b[0;34m\u001b[0m\u001b[0;34m\u001b[0m\u001b[0;34m\u001b[0m\u001b[0m\n",
      "\u001b[0;32m~/anaconda3/envs/sebasmos/lib/python3.6/site-packages/pandas/core/indexing.py\u001b[0m in \u001b[0;36m_getitem_tuple\u001b[0;34m(self, tup)\u001b[0m\n\u001b[1;32m   1441\u001b[0m     \u001b[0;32mdef\u001b[0m \u001b[0m_getitem_tuple\u001b[0m\u001b[0;34m(\u001b[0m\u001b[0mself\u001b[0m\u001b[0;34m,\u001b[0m \u001b[0mtup\u001b[0m\u001b[0;34m:\u001b[0m \u001b[0mTuple\u001b[0m\u001b[0;34m)\u001b[0m\u001b[0;34m:\u001b[0m\u001b[0;34m\u001b[0m\u001b[0;34m\u001b[0m\u001b[0m\n\u001b[1;32m   1442\u001b[0m \u001b[0;34m\u001b[0m\u001b[0m\n\u001b[0;32m-> 1443\u001b[0;31m         \u001b[0mself\u001b[0m\u001b[0;34m.\u001b[0m\u001b[0m_has_valid_tuple\u001b[0m\u001b[0;34m(\u001b[0m\u001b[0mtup\u001b[0m\u001b[0;34m)\u001b[0m\u001b[0;34m\u001b[0m\u001b[0;34m\u001b[0m\u001b[0m\n\u001b[0m\u001b[1;32m   1444\u001b[0m         \u001b[0;32mtry\u001b[0m\u001b[0;34m:\u001b[0m\u001b[0;34m\u001b[0m\u001b[0;34m\u001b[0m\u001b[0m\n\u001b[1;32m   1445\u001b[0m             \u001b[0;32mreturn\u001b[0m \u001b[0mself\u001b[0m\u001b[0;34m.\u001b[0m\u001b[0m_getitem_lowerdim\u001b[0m\u001b[0;34m(\u001b[0m\u001b[0mtup\u001b[0m\u001b[0;34m)\u001b[0m\u001b[0;34m\u001b[0m\u001b[0;34m\u001b[0m\u001b[0m\n",
      "\u001b[0;32m~/anaconda3/envs/sebasmos/lib/python3.6/site-packages/pandas/core/indexing.py\u001b[0m in \u001b[0;36m_has_valid_tuple\u001b[0;34m(self, key)\u001b[0m\n\u001b[1;32m    700\u001b[0m                 \u001b[0;32mraise\u001b[0m \u001b[0mIndexingError\u001b[0m\u001b[0;34m(\u001b[0m\u001b[0;34m\"Too many indexers\"\u001b[0m\u001b[0;34m)\u001b[0m\u001b[0;34m\u001b[0m\u001b[0;34m\u001b[0m\u001b[0m\n\u001b[1;32m    701\u001b[0m             \u001b[0;32mtry\u001b[0m\u001b[0;34m:\u001b[0m\u001b[0;34m\u001b[0m\u001b[0;34m\u001b[0m\u001b[0m\n\u001b[0;32m--> 702\u001b[0;31m                 \u001b[0mself\u001b[0m\u001b[0;34m.\u001b[0m\u001b[0m_validate_key\u001b[0m\u001b[0;34m(\u001b[0m\u001b[0mk\u001b[0m\u001b[0;34m,\u001b[0m \u001b[0mi\u001b[0m\u001b[0;34m)\u001b[0m\u001b[0;34m\u001b[0m\u001b[0;34m\u001b[0m\u001b[0m\n\u001b[0m\u001b[1;32m    703\u001b[0m             \u001b[0;32mexcept\u001b[0m \u001b[0mValueError\u001b[0m \u001b[0;32mas\u001b[0m \u001b[0merr\u001b[0m\u001b[0;34m:\u001b[0m\u001b[0;34m\u001b[0m\u001b[0;34m\u001b[0m\u001b[0m\n\u001b[1;32m    704\u001b[0m                 raise ValueError(\n",
      "\u001b[0;32m~/anaconda3/envs/sebasmos/lib/python3.6/site-packages/pandas/core/indexing.py\u001b[0m in \u001b[0;36m_validate_key\u001b[0;34m(self, key, axis)\u001b[0m\n\u001b[1;32m   1365\u001b[0m             \u001b[0;31m# check that the key does not exceed the maximum size of the index\u001b[0m\u001b[0;34m\u001b[0m\u001b[0;34m\u001b[0m\u001b[0;34m\u001b[0m\u001b[0m\n\u001b[1;32m   1366\u001b[0m             \u001b[0;32mif\u001b[0m \u001b[0mlen\u001b[0m\u001b[0;34m(\u001b[0m\u001b[0marr\u001b[0m\u001b[0;34m)\u001b[0m \u001b[0;32mand\u001b[0m \u001b[0;34m(\u001b[0m\u001b[0marr\u001b[0m\u001b[0;34m.\u001b[0m\u001b[0mmax\u001b[0m\u001b[0;34m(\u001b[0m\u001b[0;34m)\u001b[0m \u001b[0;34m>=\u001b[0m \u001b[0mlen_axis\u001b[0m \u001b[0;32mor\u001b[0m \u001b[0marr\u001b[0m\u001b[0;34m.\u001b[0m\u001b[0mmin\u001b[0m\u001b[0;34m(\u001b[0m\u001b[0;34m)\u001b[0m \u001b[0;34m<\u001b[0m \u001b[0;34m-\u001b[0m\u001b[0mlen_axis\u001b[0m\u001b[0;34m)\u001b[0m\u001b[0;34m:\u001b[0m\u001b[0;34m\u001b[0m\u001b[0;34m\u001b[0m\u001b[0m\n\u001b[0;32m-> 1367\u001b[0;31m                 \u001b[0;32mraise\u001b[0m \u001b[0mIndexError\u001b[0m\u001b[0;34m(\u001b[0m\u001b[0;34m\"positional indexers are out-of-bounds\"\u001b[0m\u001b[0;34m)\u001b[0m\u001b[0;34m\u001b[0m\u001b[0;34m\u001b[0m\u001b[0m\n\u001b[0m\u001b[1;32m   1368\u001b[0m         \u001b[0;32melse\u001b[0m\u001b[0;34m:\u001b[0m\u001b[0;34m\u001b[0m\u001b[0;34m\u001b[0m\u001b[0m\n\u001b[1;32m   1369\u001b[0m             \u001b[0;32mraise\u001b[0m \u001b[0mValueError\u001b[0m\u001b[0;34m(\u001b[0m\u001b[0;34mf\"Can only index by location with a [{self._valid_types}]\"\u001b[0m\u001b[0;34m)\u001b[0m\u001b[0;34m\u001b[0m\u001b[0;34m\u001b[0m\u001b[0m\n",
      "\u001b[0;31mIndexError\u001b[0m: positional indexers are out-of-bounds"
     ]
    },
    {
     "data": {
      "text/plain": [
       "<Figure size 360x360 with 0 Axes>"
      ]
     },
     "metadata": {},
     "output_type": "display_data"
    }
   ],
   "source": [
    "import seaborn as sns\n",
    "channels = [17,7, 14]\n",
    "palette = sns.color_palette(\"husl\", len(channels)) # https://seaborn.pydata.org/generated/seaborn.color_palette.html\n",
    "fig = plt.figure('fig_size', (5, 5))\n",
    "# Adding grid\n",
    "sns.set(style=\"ticks\")\n",
    "sns.set_style(\"darkgrid\")#whitegrid\")# #https://seaborn.pydata.org/generated/seaborn.set_style.html\n",
    "sns.lineplot(data=df.iloc[:,channels], \n",
    "             markers=True, \n",
    "             dashes=False, \n",
    "             palette=palette, \n",
    "             linewidth = 2)\n",
    "\n",
    "plt.axhline(y=17.5 , color='red', linestyle='--', label=\"Limit\")\n",
    "plt.legend(loc='lower right')\n",
    "plt.title(\"L1 per channel - L1{Fake_IF, Real_IF}\")\n",
    "plt.ylabel(\"Loss\")\n",
    "plt.xlabel(\"Epochs\")\n",
    "#plt.grid()\n",
    "plt.savefig(\"loss1.png\", bbox_inches='tight', pad_inches=0)#, dpi = 64)\n",
    "plt.show()\n",
    "plt.close('all')"
   ]
  },
  {
   "cell_type": "code",
   "execution_count": null,
   "id": "af39081c-2e26-402a-b978-e447318b3878",
   "metadata": {},
   "outputs": [],
   "source": [
    "import seaborn as sns\n",
    "channels = [0,1,2,3,4,5,6,8,9,10,11,12,13,15,16,18]\n",
    "palette = sns.color_palette(\"husl\", len(channels)) # https://seaborn.pydata.org/generated/seaborn.color_palette.html\n",
    "fig = plt.figure('fig_size', (10, 10))\n",
    "# Adding grid\n",
    "sns.set(style=\"ticks\")\n",
    "sns.set_style(\"darkgrid\")#whitegrid\")# #https://seaborn.pydata.org/generated/seaborn.set_style.html\n",
    "sns.lineplot(data=df.iloc[:,channels], \n",
    "             markers=True, \n",
    "             dashes=False, \n",
    "             palette=palette, \n",
    "             linewidth = 2)\n",
    "\n",
    "plt.axhline(y=17.5 , color='red', linestyle='--', label=\"Limit\")\n",
    "plt.legend(loc='lower right')\n",
    "plt.title(\"L1 per channel - L1{Fake_IF, Real_IF}\")\n",
    "plt.ylabel(\"Loss\")\n",
    "plt.xlabel(\"Epochs\")\n",
    "#plt.grid()\n",
    "plt.savefig(\"loss1.png\", bbox_inches='tight', pad_inches=0)#, dpi = 64)\n",
    "plt.show()\n",
    "plt.close('all')"
   ]
  },
  {
   "cell_type": "code",
   "execution_count": null,
   "id": "197d2552-d8f9-465c-bf0a-926b10021dc4",
   "metadata": {},
   "outputs": [],
   "source": [
    "import seaborn as sns\n",
    "channels = [0,3,17,18]\n",
    "palette = sns.color_palette(\"husl\", len(channels)) # https://seaborn.pydata.org/generated/seaborn.color_palette.html\n",
    "fig = plt.figure('fig_size', (5, 5))\n",
    "# Adding grid\n",
    "sns.set(style=\"ticks\")\n",
    "sns.set_style(\"darkgrid\")#whitegrid\")# #https://seaborn.pydata.org/generated/seaborn.set_style.html\n",
    "sns.lineplot(data=df.iloc[:,channels], \n",
    "             markers=True, \n",
    "             dashes=False, \n",
    "             palette=palette, \n",
    "             linewidth = 2)\n",
    "plt.axhline(y=17.5 , color='red', linestyle='--', label=\"Limit\")\n",
    "plt.legend(loc='lower right')\n",
    "plt.title(\"L1 per channel\")\n",
    "plt.ylabel(\"Loss\")\n",
    "plt.xlabel(\"Epochs\")\n",
    "#plt.grid()\n",
    "plt.savefig(\"loss1.png\", bbox_inches='tight', pad_inches=0)#, dpi = 64)\n",
    "plt.show()\n",
    "plt.close('all')"
   ]
  },
  {
   "cell_type": "markdown",
   "id": "8fff654f-ef89-47b1-bb5b-4e1d29326363",
   "metadata": {},
   "source": [
    "### Legend locations\n",
    "```\n",
    "upper right\n",
    "upper left\n",
    "lower left\n",
    "lower right\n",
    "right\n",
    "center left\n",
    "center right\n",
    "lower center\n",
    "upper center\n",
    "center\n",
    "```\n"
   ]
  }
 ],
 "metadata": {
  "kernelspec": {
   "display_name": "sebasmos",
   "language": "python",
   "name": "sebasmos"
  },
  "language_info": {
   "codemirror_mode": {
    "name": "ipython",
    "version": 3
   },
   "file_extension": ".py",
   "mimetype": "text/x-python",
   "name": "python",
   "nbconvert_exporter": "python",
   "pygments_lexer": "ipython3",
   "version": "3.6.13"
  }
 },
 "nbformat": 4,
 "nbformat_minor": 5
}
