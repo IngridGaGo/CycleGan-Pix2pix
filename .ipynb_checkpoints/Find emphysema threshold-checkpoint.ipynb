{
 "cells": [
  {
   "cell_type": "code",
   "execution_count": 13,
   "id": "according-mileage",
   "metadata": {},
   "outputs": [
    {
     "name": "stdout",
     "output_type": "stream",
     "text": [
      "Using matplotlib backend: agg\n",
      "Populating the interactive namespace from numpy and matplotlib\n"
     ]
    },
    {
     "name": "stderr",
     "output_type": "stream",
     "text": [
      "/ocean/projects/asc170022p/rohit33/anaconda3/envs/venv/lib/python3.6/site-packages/IPython/core/magics/pylab.py:160: UserWarning: pylab import has clobbered these variables: ['f']\n",
      "`%matplotlib` prevents importing * from pylab and numpy\n",
      "  \"\\n`%matplotlib` prevents importing * from pylab and numpy\"\n"
     ]
    }
   ],
   "source": [
    "%pylab\n",
    "import pandas as pd\n",
    "import os\n",
    "from os import path as osp\n",
    "%matplotlib inline"
   ]
  },
  {
   "cell_type": "code",
   "execution_count": 2,
   "id": "flush-probe",
   "metadata": {},
   "outputs": [],
   "source": [
    "dataroot = \"/ocean/projects/asc170022p/rohit33\""
   ]
  },
  {
   "cell_type": "code",
   "execution_count": 4,
   "id": "chemical-america",
   "metadata": {},
   "outputs": [],
   "source": [
    "dirname = osp.join(dataroot, 'copdprocesseddata')"
   ]
  },
  {
   "cell_type": "code",
   "execution_count": 7,
   "id": "suited-jaguar",
   "metadata": {},
   "outputs": [],
   "source": [
    "for r, dirs, files in os.walk(dirname):\n",
    "    files = list(map(lambda x: osp.join(r, x), files))"
   ]
  },
  {
   "cell_type": "code",
   "execution_count": 9,
   "id": "latest-athens",
   "metadata": {},
   "outputs": [],
   "source": [
    "allvals = []\n",
    "for f in files:\n",
    "    d = np.load(f)\n",
    "    allvals.extend(list(d))"
   ]
  },
  {
   "cell_type": "code",
   "execution_count": 19,
   "id": "excited-collective",
   "metadata": {},
   "outputs": [
    {
     "data": {
      "image/png": "[encoded data removed]",
      "text/plain": [
       "<Figure size 864x864 with 1 Axes>"
      ]
     },
     "metadata": {
      "needs_background": "light"
     },
     "output_type": "display_data"
    }
   ],
   "source": [
    "plt.figure(figsize=(12, 12))\n",
    "plt.hist(allvals, bins = int(np.sqrt(max(allvals))))\n",
    "plt.yscale('log')"
   ]
  },
  {
   "cell_type": "code",
   "execution_count": null,
   "id": "endless-mechanism",
   "metadata": {},
   "outputs": [],
   "source": []
  }
 ],
 "metadata": {
  "kernelspec": {
   "display_name": "Python 3",
   "language": "python",
   "name": "python3"
  },
  "language_info": {
   "codemirror_mode": {
    "name": "ipython",
    "version": 3
   },
   "file_extension": ".py",
   "mimetype": "text/x-python",
   "name": "python",
   "nbconvert_exporter": "python",
   "pygments_lexer": "ipython3",
   "version": "3.6.12"
  }
 },
 "nbformat": 4,
 "nbformat_minor": 5
}
