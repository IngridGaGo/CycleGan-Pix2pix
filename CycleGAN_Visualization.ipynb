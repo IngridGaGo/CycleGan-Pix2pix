{
 "cells": [
  {
   "cell_type": "code",
   "execution_count": 1,
   "id": "everyday-terminology",
   "metadata": {},
   "outputs": [],
   "source": [
    "import os\n",
    "import glob\n",
    "import numpy as np\n",
    "from itkwidgets import view"
   ]
  },
  {
   "cell_type": "code",
   "execution_count": 2,
   "id": "north-solid",
   "metadata": {},
   "outputs": [],
   "source": [
    "def normalize(x):\n",
    "    M = 240\n",
    "    m = -1024\n",
    "    x = (x-m)/(M-m)\n",
    "    x = 2*x -1\n",
    "    return x"
   ]
  },
  {
   "cell_type": "code",
   "execution_count": 3,
   "id": "irish-resort",
   "metadata": {},
   "outputs": [],
   "source": [
    "def unnormalize(x):\n",
    "    M = 240\n",
    "    m = -1024\n",
    "    x = 0.5*(x+1)*(M-m) + m\n",
    "    return x"
   ]
  },
  {
   "cell_type": "code",
   "execution_count": 4,
   "id": "appointed-season",
   "metadata": {},
   "outputs": [],
   "source": [
    "import torch\n",
    "import torch.nn as nn\n",
    "from models.networks3d_resnet import ResnetGenerator3d as PatchGenerator"
   ]
  },
  {
   "cell_type": "code",
   "execution_count": 5,
   "id": "classical-boost",
   "metadata": {},
   "outputs": [],
   "source": [
    "model_A = PatchGenerator(1, 1, n_blocks=9)\n",
    "model_B = PatchGenerator(1, 1, n_blocks=9)"
   ]
  },
  {
   "cell_type": "code",
   "execution_count": 6,
   "id": "eligible-phrase",
   "metadata": {},
   "outputs": [],
   "source": [
    "# lung segmentation file dictionary\n",
    "lung_region_dir = '/ocean/projects/asc170022p/lisun/copd/gnn_shared/data/patch_data_32_6_reg_mask/lung_region'\n",
    "lung_region_files = glob.glob(lung_region_dir + '/*.npy')\n",
    "lung_region_dict = {}\n",
    "for f in lung_region_files:\n",
    "    s = f.split('/')\n",
    "    t = s[-1]\n",
    "    k = t[:6]\n",
    "    lung_region_dict[k] = f"
   ]
  },
  {
   "cell_type": "code",
   "execution_count": 25,
   "id": "spread-redhead",
   "metadata": {},
   "outputs": [],
   "source": [
    "# Atlas locations\n",
    "altas_loc_file = '/ocean/projects/asc170022p/lisun/copd/gnn_shared/data/patch_data_32_6_reg_mask/19676E_INSP_STD_JHU_COPD_BSpline_Iso1_patch_loc.npy'\n",
    "atlas_loc = np.load(altas_loc_file)\n",
    "atlas_loc = (atlas_loc / atlas_loc.max(0))*2 -1\n",
    "\n"
   ]
  },
  {
   "cell_type": "markdown",
   "id": "owned-stations",
   "metadata": {},
   "source": [
    "## Low to High"
   ]
  },
  {
   "cell_type": "code",
   "execution_count": 8,
   "id": "assumed-point",
   "metadata": {
    "scrolled": false
   },
   "outputs": [
    {
     "data": {
      "text/plain": [
       "ResnetGenerator3d(\n",
       "  (embed): Sequential(\n",
       "    (0): Linear(in_features=3, out_features=256, bias=True)\n",
       "    (1): ELU(alpha=1.0)\n",
       "    (2): Linear(in_features=256, out_features=256, bias=True)\n",
       "    (3): ELU(alpha=1.0)\n",
       "    (4): Linear(in_features=256, out_features=256, bias=True)\n",
       "    (5): ELU(alpha=1.0)\n",
       "    (6): Linear(in_features=256, out_features=256, bias=True)\n",
       "  )\n",
       "  (converter): Conv3d(512, 256, kernel_size=(3, 3, 3), stride=(1, 1, 1), padding=(1, 1, 1))\n",
       "  (encoder): Sequential(\n",
       "    (0): Conv3d(1, 64, kernel_size=(7, 7, 7), stride=(1, 1, 1), padding=(3, 3, 3))\n",
       "    (1): InstanceNorm3d(64, eps=1e-05, momentum=0.1, affine=False, track_running_stats=False)\n",
       "    (2): ReLU(inplace=True)\n",
       "    (3): Conv3d(64, 128, kernel_size=(3, 3, 3), stride=(2, 2, 2), padding=(1, 1, 1))\n",
       "    (4): InstanceNorm3d(128, eps=1e-05, momentum=0.1, affine=False, track_running_stats=False)\n",
       "    (5): ReLU(inplace=True)\n",
       "    (6): Conv3d(128, 256, kernel_size=(3, 3, 3), stride=(2, 2, 2), padding=(1, 1, 1))\n",
       "    (7): InstanceNorm3d(256, eps=1e-05, momentum=0.1, affine=False, track_running_stats=False)\n",
       "    (8): ReLU(inplace=True)\n",
       "  )\n",
       "  (decoder): Sequential(\n",
       "    (0): ResnetBlock(\n",
       "      (conv_block): Sequential(\n",
       "        (0): Conv3d(256, 256, kernel_size=(3, 3, 3), stride=(1, 1, 1), padding=(1, 1, 1))\n",
       "        (1): InstanceNorm3d(256, eps=1e-05, momentum=0.1, affine=False, track_running_stats=False)\n",
       "        (2): ReLU(inplace=True)\n",
       "        (3): Conv3d(256, 256, kernel_size=(3, 3, 3), stride=(1, 1, 1), padding=(1, 1, 1))\n",
       "        (4): InstanceNorm3d(256, eps=1e-05, momentum=0.1, affine=False, track_running_stats=False)\n",
       "      )\n",
       "    )\n",
       "    (1): ResnetBlock(\n",
       "      (conv_block): Sequential(\n",
       "        (0): Conv3d(256, 256, kernel_size=(3, 3, 3), stride=(1, 1, 1), padding=(1, 1, 1))\n",
       "        (1): InstanceNorm3d(256, eps=1e-05, momentum=0.1, affine=False, track_running_stats=False)\n",
       "        (2): ReLU(inplace=True)\n",
       "        (3): Conv3d(256, 256, kernel_size=(3, 3, 3), stride=(1, 1, 1), padding=(1, 1, 1))\n",
       "        (4): InstanceNorm3d(256, eps=1e-05, momentum=0.1, affine=False, track_running_stats=False)\n",
       "      )\n",
       "    )\n",
       "    (2): ResnetBlock(\n",
       "      (conv_block): Sequential(\n",
       "        (0): Conv3d(256, 256, kernel_size=(3, 3, 3), stride=(1, 1, 1), padding=(1, 1, 1))\n",
       "        (1): InstanceNorm3d(256, eps=1e-05, momentum=0.1, affine=False, track_running_stats=False)\n",
       "        (2): ReLU(inplace=True)\n",
       "        (3): Conv3d(256, 256, kernel_size=(3, 3, 3), stride=(1, 1, 1), padding=(1, 1, 1))\n",
       "        (4): InstanceNorm3d(256, eps=1e-05, momentum=0.1, affine=False, track_running_stats=False)\n",
       "      )\n",
       "    )\n",
       "    (3): ResnetBlock(\n",
       "      (conv_block): Sequential(\n",
       "        (0): Conv3d(256, 256, kernel_size=(3, 3, 3), stride=(1, 1, 1), padding=(1, 1, 1))\n",
       "        (1): InstanceNorm3d(256, eps=1e-05, momentum=0.1, affine=False, track_running_stats=False)\n",
       "        (2): ReLU(inplace=True)\n",
       "        (3): Conv3d(256, 256, kernel_size=(3, 3, 3), stride=(1, 1, 1), padding=(1, 1, 1))\n",
       "        (4): InstanceNorm3d(256, eps=1e-05, momentum=0.1, affine=False, track_running_stats=False)\n",
       "      )\n",
       "    )\n",
       "    (4): ResnetBlock(\n",
       "      (conv_block): Sequential(\n",
       "        (0): Conv3d(256, 256, kernel_size=(3, 3, 3), stride=(1, 1, 1), padding=(1, 1, 1))\n",
       "        (1): InstanceNorm3d(256, eps=1e-05, momentum=0.1, affine=False, track_running_stats=False)\n",
       "        (2): ReLU(inplace=True)\n",
       "        (3): Conv3d(256, 256, kernel_size=(3, 3, 3), stride=(1, 1, 1), padding=(1, 1, 1))\n",
       "        (4): InstanceNorm3d(256, eps=1e-05, momentum=0.1, affine=False, track_running_stats=False)\n",
       "      )\n",
       "    )\n",
       "    (5): ResnetBlock(\n",
       "      (conv_block): Sequential(\n",
       "        (0): Conv3d(256, 256, kernel_size=(3, 3, 3), stride=(1, 1, 1), padding=(1, 1, 1))\n",
       "        (1): InstanceNorm3d(256, eps=1e-05, momentum=0.1, affine=False, track_running_stats=False)\n",
       "        (2): ReLU(inplace=True)\n",
       "        (3): Conv3d(256, 256, kernel_size=(3, 3, 3), stride=(1, 1, 1), padding=(1, 1, 1))\n",
       "        (4): InstanceNorm3d(256, eps=1e-05, momentum=0.1, affine=False, track_running_stats=False)\n",
       "      )\n",
       "    )\n",
       "    (6): ResnetBlock(\n",
       "      (conv_block): Sequential(\n",
       "        (0): Conv3d(256, 256, kernel_size=(3, 3, 3), stride=(1, 1, 1), padding=(1, 1, 1))\n",
       "        (1): InstanceNorm3d(256, eps=1e-05, momentum=0.1, affine=False, track_running_stats=False)\n",
       "        (2): ReLU(inplace=True)\n",
       "        (3): Conv3d(256, 256, kernel_size=(3, 3, 3), stride=(1, 1, 1), padding=(1, 1, 1))\n",
       "        (4): InstanceNorm3d(256, eps=1e-05, momentum=0.1, affine=False, track_running_stats=False)\n",
       "      )\n",
       "    )\n",
       "    (7): ResnetBlock(\n",
       "      (conv_block): Sequential(\n",
       "        (0): Conv3d(256, 256, kernel_size=(3, 3, 3), stride=(1, 1, 1), padding=(1, 1, 1))\n",
       "        (1): InstanceNorm3d(256, eps=1e-05, momentum=0.1, affine=False, track_running_stats=False)\n",
       "        (2): ReLU(inplace=True)\n",
       "        (3): Conv3d(256, 256, kernel_size=(3, 3, 3), stride=(1, 1, 1), padding=(1, 1, 1))\n",
       "        (4): InstanceNorm3d(256, eps=1e-05, momentum=0.1, affine=False, track_running_stats=False)\n",
       "      )\n",
       "    )\n",
       "    (8): ResnetBlock(\n",
       "      (conv_block): Sequential(\n",
       "        (0): Conv3d(256, 256, kernel_size=(3, 3, 3), stride=(1, 1, 1), padding=(1, 1, 1))\n",
       "        (1): InstanceNorm3d(256, eps=1e-05, momentum=0.1, affine=False, track_running_stats=False)\n",
       "        (2): ReLU(inplace=True)\n",
       "        (3): Conv3d(256, 256, kernel_size=(3, 3, 3), stride=(1, 1, 1), padding=(1, 1, 1))\n",
       "        (4): InstanceNorm3d(256, eps=1e-05, momentum=0.1, affine=False, track_running_stats=False)\n",
       "      )\n",
       "    )\n",
       "    (9): Conv3d(256, 128, kernel_size=(3, 3, 3), stride=(1, 1, 1), padding=(1, 1, 1))\n",
       "    (10): Upsample(scale_factor=2.0, mode=trilinear)\n",
       "    (11): InstanceNorm3d(128, eps=1e-05, momentum=0.1, affine=False, track_running_stats=False)\n",
       "    (12): ReLU(inplace=True)\n",
       "    (13): Conv3d(128, 64, kernel_size=(3, 3, 3), stride=(1, 1, 1), padding=(1, 1, 1))\n",
       "    (14): Upsample(scale_factor=2.0, mode=trilinear)\n",
       "    (15): InstanceNorm3d(64, eps=1e-05, momentum=0.1, affine=False, track_running_stats=False)\n",
       "    (16): ReLU(inplace=True)\n",
       "    (17): Conv3d(64, 1, kernel_size=(7, 7, 7), stride=(1, 1, 1), padding=(3, 3, 3))\n",
       "    (18): Tanh()\n",
       "  )\n",
       ")"
      ]
     },
     "execution_count": 8,
     "metadata": {},
     "output_type": "execute_result"
    }
   ],
   "source": [
    "PATH_A = '/ocean/projects/asc170022p/rohit33/cyclegan_models/checkpoints/copd_emphysema_resnet9/iter_420000_net_G_A.pth'\n",
    "model_A.load_state_dict(torch.load(PATH_A))\n",
    "model_A.eval()"
   ]
  },
  {
   "cell_type": "code",
   "execution_count": 9,
   "id": "solar-ratio",
   "metadata": {
    "scrolled": false
   },
   "outputs": [
    {
     "data": {
      "text/plain": [
       "ResnetGenerator3d(\n",
       "  (embed): Sequential(\n",
       "    (0): Linear(in_features=3, out_features=256, bias=True)\n",
       "    (1): ELU(alpha=1.0)\n",
       "    (2): Linear(in_features=256, out_features=256, bias=True)\n",
       "    (3): ELU(alpha=1.0)\n",
       "    (4): Linear(in_features=256, out_features=256, bias=True)\n",
       "    (5): ELU(alpha=1.0)\n",
       "    (6): Linear(in_features=256, out_features=256, bias=True)\n",
       "  )\n",
       "  (converter): Conv3d(512, 256, kernel_size=(3, 3, 3), stride=(1, 1, 1), padding=(1, 1, 1))\n",
       "  (encoder): Sequential(\n",
       "    (0): Conv3d(1, 64, kernel_size=(7, 7, 7), stride=(1, 1, 1), padding=(3, 3, 3))\n",
       "    (1): InstanceNorm3d(64, eps=1e-05, momentum=0.1, affine=False, track_running_stats=False)\n",
       "    (2): ReLU(inplace=True)\n",
       "    (3): Conv3d(64, 128, kernel_size=(3, 3, 3), stride=(2, 2, 2), padding=(1, 1, 1))\n",
       "    (4): InstanceNorm3d(128, eps=1e-05, momentum=0.1, affine=False, track_running_stats=False)\n",
       "    (5): ReLU(inplace=True)\n",
       "    (6): Conv3d(128, 256, kernel_size=(3, 3, 3), stride=(2, 2, 2), padding=(1, 1, 1))\n",
       "    (7): InstanceNorm3d(256, eps=1e-05, momentum=0.1, affine=False, track_running_stats=False)\n",
       "    (8): ReLU(inplace=True)\n",
       "  )\n",
       "  (decoder): Sequential(\n",
       "    (0): ResnetBlock(\n",
       "      (conv_block): Sequential(\n",
       "        (0): Conv3d(256, 256, kernel_size=(3, 3, 3), stride=(1, 1, 1), padding=(1, 1, 1))\n",
       "        (1): InstanceNorm3d(256, eps=1e-05, momentum=0.1, affine=False, track_running_stats=False)\n",
       "        (2): ReLU(inplace=True)\n",
       "        (3): Conv3d(256, 256, kernel_size=(3, 3, 3), stride=(1, 1, 1), padding=(1, 1, 1))\n",
       "        (4): InstanceNorm3d(256, eps=1e-05, momentum=0.1, affine=False, track_running_stats=False)\n",
       "      )\n",
       "    )\n",
       "    (1): ResnetBlock(\n",
       "      (conv_block): Sequential(\n",
       "        (0): Conv3d(256, 256, kernel_size=(3, 3, 3), stride=(1, 1, 1), padding=(1, 1, 1))\n",
       "        (1): InstanceNorm3d(256, eps=1e-05, momentum=0.1, affine=False, track_running_stats=False)\n",
       "        (2): ReLU(inplace=True)\n",
       "        (3): Conv3d(256, 256, kernel_size=(3, 3, 3), stride=(1, 1, 1), padding=(1, 1, 1))\n",
       "        (4): InstanceNorm3d(256, eps=1e-05, momentum=0.1, affine=False, track_running_stats=False)\n",
       "      )\n",
       "    )\n",
       "    (2): ResnetBlock(\n",
       "      (conv_block): Sequential(\n",
       "        (0): Conv3d(256, 256, kernel_size=(3, 3, 3), stride=(1, 1, 1), padding=(1, 1, 1))\n",
       "        (1): InstanceNorm3d(256, eps=1e-05, momentum=0.1, affine=False, track_running_stats=False)\n",
       "        (2): ReLU(inplace=True)\n",
       "        (3): Conv3d(256, 256, kernel_size=(3, 3, 3), stride=(1, 1, 1), padding=(1, 1, 1))\n",
       "        (4): InstanceNorm3d(256, eps=1e-05, momentum=0.1, affine=False, track_running_stats=False)\n",
       "      )\n",
       "    )\n",
       "    (3): ResnetBlock(\n",
       "      (conv_block): Sequential(\n",
       "        (0): Conv3d(256, 256, kernel_size=(3, 3, 3), stride=(1, 1, 1), padding=(1, 1, 1))\n",
       "        (1): InstanceNorm3d(256, eps=1e-05, momentum=0.1, affine=False, track_running_stats=False)\n",
       "        (2): ReLU(inplace=True)\n",
       "        (3): Conv3d(256, 256, kernel_size=(3, 3, 3), stride=(1, 1, 1), padding=(1, 1, 1))\n",
       "        (4): InstanceNorm3d(256, eps=1e-05, momentum=0.1, affine=False, track_running_stats=False)\n",
       "      )\n",
       "    )\n",
       "    (4): ResnetBlock(\n",
       "      (conv_block): Sequential(\n",
       "        (0): Conv3d(256, 256, kernel_size=(3, 3, 3), stride=(1, 1, 1), padding=(1, 1, 1))\n",
       "        (1): InstanceNorm3d(256, eps=1e-05, momentum=0.1, affine=False, track_running_stats=False)\n",
       "        (2): ReLU(inplace=True)\n",
       "        (3): Conv3d(256, 256, kernel_size=(3, 3, 3), stride=(1, 1, 1), padding=(1, 1, 1))\n",
       "        (4): InstanceNorm3d(256, eps=1e-05, momentum=0.1, affine=False, track_running_stats=False)\n",
       "      )\n",
       "    )\n",
       "    (5): ResnetBlock(\n",
       "      (conv_block): Sequential(\n",
       "        (0): Conv3d(256, 256, kernel_size=(3, 3, 3), stride=(1, 1, 1), padding=(1, 1, 1))\n",
       "        (1): InstanceNorm3d(256, eps=1e-05, momentum=0.1, affine=False, track_running_stats=False)\n",
       "        (2): ReLU(inplace=True)\n",
       "        (3): Conv3d(256, 256, kernel_size=(3, 3, 3), stride=(1, 1, 1), padding=(1, 1, 1))\n",
       "        (4): InstanceNorm3d(256, eps=1e-05, momentum=0.1, affine=False, track_running_stats=False)\n",
       "      )\n",
       "    )\n",
       "    (6): ResnetBlock(\n",
       "      (conv_block): Sequential(\n",
       "        (0): Conv3d(256, 256, kernel_size=(3, 3, 3), stride=(1, 1, 1), padding=(1, 1, 1))\n",
       "        (1): InstanceNorm3d(256, eps=1e-05, momentum=0.1, affine=False, track_running_stats=False)\n",
       "        (2): ReLU(inplace=True)\n",
       "        (3): Conv3d(256, 256, kernel_size=(3, 3, 3), stride=(1, 1, 1), padding=(1, 1, 1))\n",
       "        (4): InstanceNorm3d(256, eps=1e-05, momentum=0.1, affine=False, track_running_stats=False)\n",
       "      )\n",
       "    )\n",
       "    (7): ResnetBlock(\n",
       "      (conv_block): Sequential(\n",
       "        (0): Conv3d(256, 256, kernel_size=(3, 3, 3), stride=(1, 1, 1), padding=(1, 1, 1))\n",
       "        (1): InstanceNorm3d(256, eps=1e-05, momentum=0.1, affine=False, track_running_stats=False)\n",
       "        (2): ReLU(inplace=True)\n",
       "        (3): Conv3d(256, 256, kernel_size=(3, 3, 3), stride=(1, 1, 1), padding=(1, 1, 1))\n",
       "        (4): InstanceNorm3d(256, eps=1e-05, momentum=0.1, affine=False, track_running_stats=False)\n",
       "      )\n",
       "    )\n",
       "    (8): ResnetBlock(\n",
       "      (conv_block): Sequential(\n",
       "        (0): Conv3d(256, 256, kernel_size=(3, 3, 3), stride=(1, 1, 1), padding=(1, 1, 1))\n",
       "        (1): InstanceNorm3d(256, eps=1e-05, momentum=0.1, affine=False, track_running_stats=False)\n",
       "        (2): ReLU(inplace=True)\n",
       "        (3): Conv3d(256, 256, kernel_size=(3, 3, 3), stride=(1, 1, 1), padding=(1, 1, 1))\n",
       "        (4): InstanceNorm3d(256, eps=1e-05, momentum=0.1, affine=False, track_running_stats=False)\n",
       "      )\n",
       "    )\n",
       "    (9): Conv3d(256, 128, kernel_size=(3, 3, 3), stride=(1, 1, 1), padding=(1, 1, 1))\n",
       "    (10): Upsample(scale_factor=2.0, mode=trilinear)\n",
       "    (11): InstanceNorm3d(128, eps=1e-05, momentum=0.1, affine=False, track_running_stats=False)\n",
       "    (12): ReLU(inplace=True)\n",
       "    (13): Conv3d(128, 64, kernel_size=(3, 3, 3), stride=(1, 1, 1), padding=(1, 1, 1))\n",
       "    (14): Upsample(scale_factor=2.0, mode=trilinear)\n",
       "    (15): InstanceNorm3d(64, eps=1e-05, momentum=0.1, affine=False, track_running_stats=False)\n",
       "    (16): ReLU(inplace=True)\n",
       "    (17): Conv3d(64, 1, kernel_size=(7, 7, 7), stride=(1, 1, 1), padding=(3, 3, 3))\n",
       "    (18): Tanh()\n",
       "  )\n",
       ")"
      ]
     },
     "execution_count": 9,
     "metadata": {},
     "output_type": "execute_result"
    }
   ],
   "source": [
    "PATH_B = '/ocean/projects/asc170022p/rohit33/cyclegan_models/checkpoints/copd_emphysema_resnet9/iter_420000_net_G_B.pth'\n",
    "model_B.load_state_dict(torch.load(PATH_B))\n",
    "model_B.eval()"
   ]
  },
  {
   "cell_type": "code",
   "execution_count": 192,
   "id": "biblical-shield",
   "metadata": {},
   "outputs": [],
   "source": [
    "patch_idx = 120\n",
    "#patch_dir = os.path.join('/ocean/projects/asc170022p/rohit33/emphysemapatches/lo/', str(patch_idx))\n",
    "patch_dir = os.path.join('/ocean/projects/asc170022p/rohit33/emphysemapatches/hi/', str(patch_idx))\n",
    "patch_files = glob.glob(patch_dir + '/*.npy')"
   ]
  },
  {
   "cell_type": "code",
   "execution_count": 193,
   "id": "cleared-bridges",
   "metadata": {
    "scrolled": true
   },
   "outputs": [
    {
     "data": {
      "text/plain": [
       "['/ocean/projects/asc170022p/rohit33/emphysemapatches/hi/120/12220E.npy',\n",
       " '/ocean/projects/asc170022p/rohit33/emphysemapatches/hi/120/17476M.npy',\n",
       " '/ocean/projects/asc170022p/rohit33/emphysemapatches/hi/120/22931R.npy',\n",
       " '/ocean/projects/asc170022p/rohit33/emphysemapatches/hi/120/17858A.npy',\n",
       " '/ocean/projects/asc170022p/rohit33/emphysemapatches/hi/120/23618S.npy']"
      ]
     },
     "execution_count": 193,
     "metadata": {},
     "output_type": "execute_result"
    }
   ],
   "source": [
    "patch_files[:5]"
   ]
  },
  {
   "cell_type": "code",
   "execution_count": 194,
   "id": "forced-comment",
   "metadata": {},
   "outputs": [],
   "source": [
    "# extract pid\n",
    "pid_lst = []\n",
    "for f in patch_files:\n",
    "    s = f.split('.')\n",
    "    pid_lst.append(s[0][-6:])"
   ]
  },
  {
   "cell_type": "code",
   "execution_count": 195,
   "id": "hispanic-design",
   "metadata": {},
   "outputs": [],
   "source": [
    "f_idx = 1\n",
    "pid = pid_lst[f_idx]\n",
    "patch_arr = np.load(patch_files[f_idx])"
   ]
  },
  {
   "cell_type": "code",
   "execution_count": 196,
   "id": "taken-water",
   "metadata": {
    "scrolled": false
   },
   "outputs": [
    {
     "data": {
      "application/vnd.jupyter.widget-view+json": {
       "model_id": "f75d68208c5d420abd49ed02429e33a7",
       "version_major": 2,
       "version_minor": 0
      },
      "text/plain": [
       "Viewer(axes=True, geometries=[], gradient_opacity=0.9, point_sets=[], rendered_image=<itk.itkImagePython.itkIm…"
      ]
     },
     "metadata": {},
     "output_type": "display_data"
    }
   ],
   "source": [
    "# real image A\n",
    "view(patch_arr, axes=True, gradient_opacity=0.9)"
   ]
  },
  {
   "cell_type": "code",
   "execution_count": 197,
   "id": "knowing-sympathy",
   "metadata": {},
   "outputs": [],
   "source": [
    "# lung segmentation\n",
    "lung_region = np.load(lung_region_dict[pid])[patch_idx].squeeze()\n",
    "lung_region_mask = lung_region > 0\n",
    "lung_region_mask = lung_region_mask.astype(int)"
   ]
  },
  {
   "cell_type": "code",
   "execution_count": 198,
   "id": "actual-earth",
   "metadata": {},
   "outputs": [
    {
     "data": {
      "application/vnd.jupyter.widget-view+json": {
       "model_id": "ecbe4430912043efbcd2afeba00bc4be",
       "version_major": 2,
       "version_minor": 0
      },
      "text/plain": [
       "Viewer(axes=True, geometries=[], gradient_opacity=0.1, point_sets=[], rendered_image=<itk.itkImagePython.itkIm…"
      ]
     },
     "metadata": {},
     "output_type": "display_data"
    }
   ],
   "source": [
    "view(lung_region_mask, axes=True, gradient_opacity=0.1)"
   ]
  },
  {
   "cell_type": "code",
   "execution_count": 199,
   "id": "obvious-medication",
   "metadata": {},
   "outputs": [],
   "source": [
    "# real emphysema mask\n",
    "emph_region_mask_A = (patch_arr < -950) & (lung_region_mask > 0)\n",
    "emph_region_mask_A = emph_region_mask_A.astype(int)"
   ]
  },
  {
   "cell_type": "code",
   "execution_count": 200,
   "id": "several-retention",
   "metadata": {},
   "outputs": [
    {
     "data": {
      "text/plain": [
       "19485"
      ]
     },
     "execution_count": 200,
     "metadata": {},
     "output_type": "execute_result"
    }
   ],
   "source": [
    "emph_region_mask_A.sum()"
   ]
  },
  {
   "cell_type": "code",
   "execution_count": 201,
   "id": "divine-parish",
   "metadata": {},
   "outputs": [
    {
     "data": {
      "application/vnd.jupyter.widget-view+json": {
       "model_id": "0b96e2b1ce724e2b8e95fd62b89f6a99",
       "version_major": 2,
       "version_minor": 0
      },
      "text/plain": [
       "Viewer(axes=True, geometries=[], gradient_opacity=0.1, point_sets=[], rendered_image=<itk.itkImagePython.itkIm…"
      ]
     },
     "metadata": {},
     "output_type": "display_data"
    }
   ],
   "source": [
    "view(emph_region_mask_A, axes=True, gradient_opacity=0.1)"
   ]
  },
  {
   "cell_type": "code",
   "execution_count": 202,
   "id": "forbidden-speed",
   "metadata": {},
   "outputs": [],
   "source": [
    "# fake image B\n",
    "patch_arr_norm = normalize(patch_arr)\n",
    "patch_tensor = torch.from_numpy(patch_arr_norm).unsqueeze(0).unsqueeze(0) # B=1, C=1, W=32, D=32, H=32\n",
    "patchloc = torch.from_numpy(atlas_loc[patch_idx, :]).unsqueeze(0).float() # B=1, 3\n",
    "fake_B_tensor = model_B(patch_tensor, patchloc)\n",
    "fake_B_arr = fake_B_tensor.squeeze(0).squeeze(0).detach().numpy()\n",
    "fake_B_arr_unnorm = unnormalize(fake_B_arr)"
   ]
  },
  {
   "cell_type": "code",
   "execution_count": 203,
   "id": "beneficial-central",
   "metadata": {},
   "outputs": [
    {
     "data": {
      "application/vnd.jupyter.widget-view+json": {
       "model_id": "e5b8c3fe5a864996aa46b6e7d2586377",
       "version_major": 2,
       "version_minor": 0
      },
      "text/plain": [
       "Viewer(axes=True, geometries=[], gradient_opacity=0.9, point_sets=[], rendered_image=<itk.itkImagePython.itkIm…"
      ]
     },
     "metadata": {},
     "output_type": "display_data"
    }
   ],
   "source": [
    "view(fake_B_arr_unnorm, axes=True, gradient_opacity=0.9)"
   ]
  },
  {
   "cell_type": "code",
   "execution_count": 204,
   "id": "handled-shareware",
   "metadata": {},
   "outputs": [],
   "source": [
    "# real emphysema mask\n",
    "emph_region_mask_B = (fake_B_arr_unnorm < -950) & (lung_region_mask > 0)\n",
    "emph_region_mask_B = emph_region_mask_B.astype(int)"
   ]
  },
  {
   "cell_type": "code",
   "execution_count": 205,
   "id": "external-caribbean",
   "metadata": {},
   "outputs": [
    {
     "data": {
      "text/plain": [
       "30999"
      ]
     },
     "execution_count": 205,
     "metadata": {},
     "output_type": "execute_result"
    }
   ],
   "source": [
    "emph_region_mask_B.sum()"
   ]
  },
  {
   "cell_type": "code",
   "execution_count": null,
   "id": "protecting-sewing",
   "metadata": {},
   "outputs": [],
   "source": []
  },
  {
   "cell_type": "code",
   "execution_count": null,
   "id": "hungarian-basics",
   "metadata": {},
   "outputs": [],
   "source": []
  }
 ],
 "metadata": {
  "kernelspec": {
   "display_name": "Python 3",
   "language": "python",
   "name": "python3"
  },
  "language_info": {
   "codemirror_mode": {
    "name": "ipython",
    "version": 3
   },
   "file_extension": ".py",
   "mimetype": "text/x-python",
   "name": "python",
   "nbconvert_exporter": "python",
   "pygments_lexer": "ipython3",
   "version": "3.6.12"
  }
 },
 "nbformat": 4,
 "nbformat_minor": 5
}
