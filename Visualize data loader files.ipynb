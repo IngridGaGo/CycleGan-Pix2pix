{
 "cells": [
  {
   "cell_type": "markdown",
   "id": "earned-active",
   "metadata": {},
   "source": [
    "# Visualize COPD data loader\n",
    "\n",
    "This notebook is to visualize the augmentations done in COPD patch data loader."
   ]
  },
  {
   "cell_type": "code",
   "execution_count": 1,
   "id": "after-gateway",
   "metadata": {},
   "outputs": [],
   "source": [
    "from data.base_dataset import BaseDataset, get_transform\n",
    "import numpy as np\n",
    "import os\n",
    "from os import path as osp\n",
    "import torch\n",
    "import pandas as pd\n",
    "from collections import OrderedDict\n",
    "from monai.transforms import Compose, RandGaussianNoise, Rand3DElastic, RandAdjustContrast\n",
    "\n",
    "from itkwidgets import view"
   ]
  },
  {
   "cell_type": "code",
   "execution_count": 2,
   "id": "basic-recall",
   "metadata": {},
   "outputs": [],
   "source": [
    "from data.copdpatchlabels_dataset import *\n",
    "from data.copdpatchpartition_dataset import *"
   ]
  },
  {
   "cell_type": "code",
   "execution_count": 3,
   "id": "alien-establishment",
   "metadata": {},
   "outputs": [],
   "source": [
    "class Opt:\n",
    "    def __init__(self):\n",
    "        self.dataroot = '/ocean/projects/asc170022p/rohit33'\n",
    "#         self.subroot = 'frangipatches'\n",
    "        self.subroot = 'emphysemafileindex'\n",
    "        self.patchlocations = '/ocean/projects/asc170022p/rohit33/patch_locations.npy'\n",
    "        self.patchfloat = 1\n",
    "        self.augment = 1\n",
    "        self.partitions = 5\n",
    "        self.cache_capacity = 10\n",
    "        \n",
    "opt = Opt()"
   ]
  },
  {
   "cell_type": "code",
   "execution_count": 4,
   "id": "written-macedonia",
   "metadata": {},
   "outputs": [],
   "source": [
    "# ds = CopdpatchlabelsDataset(opt)\n",
    "ds = CopdpatchpartitionDataset(opt)"
   ]
  },
  {
   "cell_type": "code",
   "execution_count": 5,
   "id": "previous-debate",
   "metadata": {},
   "outputs": [
    {
     "data": {
      "text/plain": [
       "array([['20739P', '420', '3'],\n",
       "       ['10354P', '405', '2'],\n",
       "       ['17964Z', '361', '3'],\n",
       "       ['13442B', '354', '4'],\n",
       "       ['11644D', '545', '2'],\n",
       "       ['11509X', '316', '3'],\n",
       "       ['24656F', '155', '2'],\n",
       "       ['11006X', '60', '3'],\n",
       "       ['21181V', '104', '3'],\n",
       "       ['24009Y', '118', '2'],\n",
       "       ['10728E', '197', '4'],\n",
       "       ['15488J', '206', '3'],\n",
       "       ['19444J', '255', '3'],\n",
       "       ['19321T', '73', '2'],\n",
       "       ['16637F', '572', '2'],\n",
       "       ['13501R', '300', '3'],\n",
       "       ['24612L', '520', '2'],\n",
       "       ['22677D', '34', '3'],\n",
       "       ['12361W', '383', '4'],\n",
       "       ['25601L', '391', '2']], dtype='<U6')"
      ]
     },
     "execution_count": 5,
     "metadata": {},
     "output_type": "execute_result"
    }
   ],
   "source": [
    "np.array(ds.high_patches)[np.random.randint(len(ds.high_patches), size=(20, ))]"
   ]
  },
  {
   "cell_type": "code",
   "execution_count": 6,
   "id": "earned-migration",
   "metadata": {},
   "outputs": [],
   "source": [
    "data = ds[2130]"
   ]
  },
  {
   "cell_type": "code",
   "execution_count": 7,
   "id": "loving-kruger",
   "metadata": {},
   "outputs": [
    {
     "data": {
      "text/plain": [
       "dict_keys(['A', 'B', 'A_patchidx', 'B_patchidx', 'path', 'A_paths', 'B_paths'])"
      ]
     },
     "execution_count": 7,
     "metadata": {},
     "output_type": "execute_result"
    }
   ],
   "source": [
    "data.keys()"
   ]
  },
  {
   "cell_type": "code",
   "execution_count": 8,
   "id": "auburn-period",
   "metadata": {},
   "outputs": [
    {
     "data": {
      "application/vnd.jupyter.widget-view+json": {
       "model_id": "554895a864294b82a4852e0cecdaaf75",
       "version_major": 2,
       "version_minor": 0
      },
      "text/plain": [
       "Viewer(geometries=[], gradient_opacity=0.22, point_sets=[], rendered_image=<itk.itkImagePython.itkImageF3; pro…"
      ]
     },
     "metadata": {},
     "output_type": "display_data"
    }
   ],
   "source": [
    "view(data['B'][0], )"
   ]
  },
  {
   "cell_type": "code",
   "execution_count": 47,
   "id": "proud-liechtenstein",
   "metadata": {},
   "outputs": [
    {
     "name": "stdout",
     "output_type": "stream",
     "text": [
      "/ocean/projects/asc170022p/rohit33/frangipatches/lo/318/22420S.npy\n"
     ]
    }
   ],
   "source": [
    "print(data['A_paths'])"
   ]
  },
  {
   "cell_type": "code",
   "execution_count": 9,
   "id": "appointed-authority",
   "metadata": {},
   "outputs": [
    {
     "data": {
      "text/plain": [
       "(tensor([ 0.8333,  0.4545, -0.4545]), 1)"
      ]
     },
     "execution_count": 9,
     "metadata": {},
     "output_type": "execute_result"
    }
   ],
   "source": [
    "data['A_patchidx']"
   ]
  },
  {
   "cell_type": "code",
   "execution_count": 10,
   "id": "armed-credit",
   "metadata": {},
   "outputs": [],
   "source": [
    "from torch.utils.data import DataLoader\n"
   ]
  },
  {
   "cell_type": "code",
   "execution_count": 11,
   "id": "christian-discussion",
   "metadata": {},
   "outputs": [],
   "source": [
    "dl = DataLoader(ds, batch_size=2)"
   ]
  },
  {
   "cell_type": "code",
   "execution_count": 12,
   "id": "civic-austin",
   "metadata": {},
   "outputs": [],
   "source": [
    "for data in dl:\n",
    "    break"
   ]
  },
  {
   "cell_type": "code",
   "execution_count": 18,
   "id": "wooden-suffering",
   "metadata": {},
   "outputs": [
    {
     "data": {
      "text/plain": [
       "torch.Size([2])"
      ]
     },
     "execution_count": 18,
     "metadata": {},
     "output_type": "execute_result"
    }
   ],
   "source": [
    "data['A_patchidx'][1].shape"
   ]
  },
  {
   "cell_type": "code",
   "execution_count": null,
   "id": "cognitive-knight",
   "metadata": {},
   "outputs": [],
   "source": []
  }
 ],
 "metadata": {
  "kernelspec": {
   "display_name": "Python 3",
   "language": "python",
   "name": "python3"
  },
  "language_info": {
   "codemirror_mode": {
    "name": "ipython",
    "version": 3
   },
   "file_extension": ".py",
   "mimetype": "text/x-python",
   "name": "python",
   "nbconvert_exporter": "python",
   "pygments_lexer": "ipython3",
   "version": "3.6.12"
  }
 },
 "nbformat": 4,
 "nbformat_minor": 5
}
