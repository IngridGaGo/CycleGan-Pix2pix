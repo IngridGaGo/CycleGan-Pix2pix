{
 "cells": [
  {
   "cell_type": "markdown",
   "id": "earned-active",
   "metadata": {},
   "source": [
    "# Visualize COPD data loader\n",
    "\n",
    "This notebook is to visualize the augmentations done in COPD patch data loader."
   ]
  },
  {
   "cell_type": "code",
   "execution_count": 19,
   "id": "after-gateway",
   "metadata": {},
   "outputs": [],
   "source": [
    "from data.base_dataset import BaseDataset, get_transform\n",
    "import numpy as np\n",
    "import os\n",
    "from os import path as osp\n",
    "import torch\n",
    "import pandas as pd\n",
    "from collections import OrderedDict\n",
    "from monai.transforms import Compose, RandGaussianNoise, Rand3DElastic, RandAdjustContrast\n",
    "\n",
    "from itkwidgets import view"
   ]
  },
  {
   "cell_type": "code",
   "execution_count": 4,
   "id": "basic-recall",
   "metadata": {},
   "outputs": [],
   "source": [
    "from data.copdpatchlabels_dataset import *"
   ]
  },
  {
   "cell_type": "code",
   "execution_count": 34,
   "id": "alien-establishment",
   "metadata": {},
   "outputs": [],
   "source": [
    "class Opt:\n",
    "    def __init__(self):\n",
    "        self.dataroot = '/ocean/projects/asc170022p/rohit33'\n",
    "        self.subroot = 'frangipatches'\n",
    "        self.patchlocations = '/ocean/projects/asc170022p/rohit33/patch_locations.npy'\n",
    "        self.patchfloat = 1\n",
    "        self.augment = 1\n",
    "        self.cache_capacity = 10\n",
    "        \n",
    "opt = Opt()"
   ]
  },
  {
   "cell_type": "code",
   "execution_count": 35,
   "id": "written-macedonia",
   "metadata": {},
   "outputs": [],
   "source": [
    "ds = CopdpatchlabelsDataset(opt)"
   ]
  },
  {
   "cell_type": "code",
   "execution_count": 42,
   "id": "earned-migration",
   "metadata": {},
   "outputs": [],
   "source": [
    "data = ds[2130]"
   ]
  },
  {
   "cell_type": "code",
   "execution_count": 43,
   "id": "loving-kruger",
   "metadata": {},
   "outputs": [
    {
     "data": {
      "text/plain": [
       "dict_keys(['A', 'B', 'A_patchidx', 'B_patchidx', 'path', 'A_paths', 'B_paths'])"
      ]
     },
     "execution_count": 43,
     "metadata": {},
     "output_type": "execute_result"
    }
   ],
   "source": [
    "data.keys()"
   ]
  },
  {
   "cell_type": "code",
   "execution_count": 46,
   "id": "auburn-period",
   "metadata": {},
   "outputs": [
    {
     "data": {
      "application/vnd.jupyter.widget-view+json": {
       "model_id": "3c68d2a78a054566a30f68e82aa54646",
       "version_major": 2,
       "version_minor": 0
      },
      "text/plain": [
       "Viewer(geometries=[], gradient_opacity=0.22, point_sets=[], rendered_image=<itk.itkImagePython.itkImageF3; pro…"
      ]
     },
     "metadata": {},
     "output_type": "display_data"
    }
   ],
   "source": [
    "view(data['B'][0], )"
   ]
  },
  {
   "cell_type": "code",
   "execution_count": 47,
   "id": "proud-liechtenstein",
   "metadata": {},
   "outputs": [
    {
     "name": "stdout",
     "output_type": "stream",
     "text": [
      "/ocean/projects/asc170022p/rohit33/frangipatches/lo/318/22420S.npy\n"
     ]
    }
   ],
   "source": [
    "print(data['A_paths'])"
   ]
  },
  {
   "cell_type": "code",
   "execution_count": null,
   "id": "appointed-authority",
   "metadata": {},
   "outputs": [],
   "source": []
  },
  {
   "cell_type": "code",
   "execution_count": null,
   "id": "armed-credit",
   "metadata": {},
   "outputs": [],
   "source": []
  }
 ],
 "metadata": {
  "kernelspec": {
   "display_name": "Python 3",
   "language": "python",
   "name": "python3"
  },
  "language_info": {
   "codemirror_mode": {
    "name": "ipython",
    "version": 3
   },
   "file_extension": ".py",
   "mimetype": "text/x-python",
   "name": "python",
   "nbconvert_exporter": "python",
   "pygments_lexer": "ipython3",
   "version": "3.6.12"
  }
 },
 "nbformat": 4,
 "nbformat_minor": 5
}
