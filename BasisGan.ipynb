{
 "cells": [
  {
   "cell_type": "code",
   "execution_count": 1,
   "id": "11000fa9",
   "metadata": {},
   "outputs": [],
   "source": [
    "from models.pix2pix_model import Pix2PixModel\n",
    "from options.train_options import TrainOptions"
   ]
  },
  {
   "cell_type": "code",
   "execution_count": 2,
   "id": "7467bb9b",
   "metadata": {},
   "outputs": [
    {
     "name": "stderr",
     "output_type": "stream",
     "text": [
      "usage: ipykernel_launcher.py [-h] [--dataroot DATAROOT] [--name NAME]\n",
      "                             [--gpu_ids GPU_IDS]\n",
      "                             [--checkpoints_dir CHECKPOINTS_DIR]\n",
      "                             [--model MODEL] [--input_nc INPUT_NC]\n",
      "                             [--output_nc OUTPUT_NC] [--ngf NGF] [--ndf NDF]\n",
      "                             [--netD NETD] [--netG NETG]\n",
      "                             [--n_layers_D N_LAYERS_D] [--norm NORM]\n",
      "                             [--init_type INIT_TYPE] [--init_gain INIT_GAIN]\n",
      "                             [--no_dropout] [--basis_dim BASIS_DIM]\n",
      "                             [--hidden_dim HIDDEN_DIM]\n",
      "                             [--dataset_mode DATASET_MODE]\n",
      "                             [--direction DIRECTION] [--serial_batches]\n",
      "                             [--num_threads NUM_THREADS]\n",
      "                             [--batch_size BATCH_SIZE] [--load_size LOAD_SIZE]\n",
      "                             [--crop_size CROP_SIZE]\n",
      "                             [--max_dataset_size MAX_DATASET_SIZE]\n",
      "                             [--preprocess PREPROCESS] [--no_flip]\n",
      "                             [--display_winsize DISPLAY_WINSIZE]\n",
      "                             [--epoch EPOCH] [--load_iter LOAD_ITER]\n",
      "                             [--verbose] [--suffix SUFFIX] [--use_wandb]\n",
      "                             [--wandb_project_name WANDB_PROJECT_NAME]\n",
      "                             [--display_freq DISPLAY_FREQ]\n",
      "                             [--display_ncols DISPLAY_NCOLS]\n",
      "                             [--display_id DISPLAY_ID]\n",
      "                             [--display_server DISPLAY_SERVER]\n",
      "                             [--display_env DISPLAY_ENV]\n",
      "                             [--display_port DISPLAY_PORT]\n",
      "                             [--update_html_freq UPDATE_HTML_FREQ]\n",
      "                             [--print_freq PRINT_FREQ] [--no_html]\n",
      "                             [--save_latest_freq SAVE_LATEST_FREQ]\n",
      "                             [--save_epoch_freq SAVE_EPOCH_FREQ]\n",
      "                             [--save_by_iter] [--continue_train]\n",
      "                             [--epoch_count EPOCH_COUNT] [--phase PHASE]\n",
      "                             [--n_epochs N_EPOCHS]\n",
      "                             [--n_epochs_decay N_EPOCHS_DECAY] [--beta1 BETA1]\n",
      "                             [--lr LR] [--gan_mode GAN_MODE]\n",
      "                             [--pool_size POOL_SIZE] [--lr_policy LR_POLICY]\n",
      "                             [--lr_decay_iters LR_DECAY_ITERS]\n",
      "                             [--lambda_L1 LAMBDA_L1]\n",
      "ipykernel_launcher.py: error: unrecognized arguments: -f /Users/k.tamogashev/Library/Jupyter/runtime/kernel-3f474502-a459-472f-93c6-12187f7a65d7.json\n"
     ]
    },
    {
     "ename": "SystemExit",
     "evalue": "2",
     "output_type": "error",
     "traceback": [
      "An exception has occurred, use %tb to see the full traceback.\n",
      "\u001b[0;31mSystemExit\u001b[0m\u001b[0;31m:\u001b[0m 2\n"
     ]
    },
    {
     "name": "stderr",
     "output_type": "stream",
     "text": [
      "/Users/k.tamogashev/miniforge3/envs/study/lib/python3.10/site-packages/IPython/core/interactiveshell.py:3441: UserWarning: To exit: use 'exit', 'quit', or Ctrl-D.\n",
      "  warn(\"To exit: use 'exit', 'quit', or Ctrl-D.\", stacklevel=1)\n"
     ]
    }
   ],
   "source": [
    "options = TrainOptions().parse()"
   ]
  },
  {
   "cell_type": "code",
   "execution_count": 6,
   "id": "28b50eb3",
   "metadata": {},
   "outputs": [],
   "source": [
    "train_options = TrainOptions()\n",
    "parser = train_options.gather_options()"
   ]
  },
  {
   "cell_type": "code",
   "execution_count": 9,
   "id": "c699e1dd",
   "metadata": {},
   "outputs": [
    {
     "data": {
      "text/plain": [
       "(Namespace(dataroot='./data', name='experiment_name', gpu_ids='0', checkpoints_dir='./checkpoints', model='pix2pix', input_nc=3, output_nc=3, ngf=64, ndf=64, netD='basic', netG='unet_256', n_layers_D=3, norm='batch', init_type='normal', init_gain=0.02, no_dropout=False, basis_dim=7, hidden_dim=10, dataset_mode='aligned', direction='AtoB', serial_batches=False, num_threads=4, batch_size=1, load_size=286, crop_size=256, max_dataset_size=inf, preprocess='resize_and_crop', no_flip=False, display_winsize=256, epoch='latest', load_iter=0, verbose=False, suffix='', use_wandb=False, wandb_project_name='CycleGAN-and-pix2pix', display_freq=400, display_ncols=4, display_id=1, display_server='http://localhost', display_env='main', display_port=8097, update_html_freq=1000, print_freq=100, no_html=False, save_latest_freq=5000, save_epoch_freq=5, save_by_iter=False, continue_train=False, epoch_count=1, phase='train', n_epochs=100, n_epochs_decay=100, beta1=0.5, lr=0.0002, gan_mode='vanilla', pool_size=0, lr_policy='linear', lr_decay_iters=50, lambda_L1=100.0),\n",
       " ['-f',\n",
       "  '/Users/k.tamogashev/Library/Jupyter/runtime/kernel-3f474502-a459-472f-93c6-12187f7a65d7.json'])"
      ]
     },
     "execution_count": 9,
     "metadata": {},
     "output_type": "execute_result"
    }
   ],
   "source": [
    "parser.parse_known_args()"
   ]
  },
  {
   "cell_type": "code",
   "execution_count": 3,
   "id": "95f7ec45",
   "metadata": {},
   "outputs": [],
   "source": [
    "def get_argparse_defaults(parser):\n",
    "    defaults = {}\n",
    "    for action in parser._actions:\n",
    "        if not action.required and action.dest != \"help\":\n",
    "            defaults[action.dest] = action.default\n",
    "    return defaults"
   ]
  },
  {
   "cell_type": "code",
   "execution_count": 4,
   "id": "6862e2ef",
   "metadata": {},
   "outputs": [],
   "source": [
    "parser = argparse.ArgumentParser(formatter_class=argparse.ArgumentDefaultsHelpFormatter)\n",
    "parser = train_options.initialize(parser)\n",
    "params = get_argparse_defaults(parser)"
   ]
  },
  {
   "cell_type": "code",
   "execution_count": 4,
   "id": "c77a1f33",
   "metadata": {},
   "outputs": [
    {
     "ename": "AttributeError",
     "evalue": "type object 'ArgumentParser' has no attribute 'gather_options'",
     "output_type": "error",
     "traceback": [
      "\u001b[0;31m---------------------------------------------------------------------------\u001b[0m",
      "\u001b[0;31mAttributeError\u001b[0m                            Traceback (most recent call last)",
      "Cell \u001b[0;32mIn [4], line 1\u001b[0m\n\u001b[0;32m----> 1\u001b[0m params, _ \u001b[38;5;241m=\u001b[39m \u001b[43mparser\u001b[49m\u001b[38;5;241;43m.\u001b[39;49m\u001b[43mgather_options\u001b[49m()\n\u001b[1;32m      2\u001b[0m params\n",
      "\u001b[0;31mAttributeError\u001b[0m: type object 'ArgumentParser' has no attribute 'gather_options'"
     ]
    }
   ],
   "source": [
    "params, _ = parser.gather_options()\n",
    "params"
   ]
  },
  {
   "cell_type": "code",
   "execution_count": 9,
   "id": "98413b86",
   "metadata": {},
   "outputs": [
    {
     "ename": "AttributeError",
     "evalue": "'Namespace' object has no attribute 'isTrain'",
     "output_type": "error",
     "traceback": [
      "\u001b[0;31m---------------------------------------------------------------------------\u001b[0m",
      "\u001b[0;31mAttributeError\u001b[0m                            Traceback (most recent call last)",
      "Cell \u001b[0;32mIn [9], line 1\u001b[0m\n\u001b[0;32m----> 1\u001b[0m model \u001b[38;5;241m=\u001b[39m \u001b[43mPix2PixModel\u001b[49m\u001b[43m(\u001b[49m\u001b[43mparams\u001b[49m\u001b[43m)\u001b[49m\n",
      "File \u001b[0;32m~/LocalDocuments/personal/pytorch-CycleGAN-and-pix2pix/models/pix2pix_model.py:45\u001b[0m, in \u001b[0;36mPix2PixModel.__init__\u001b[0;34m(self, opt)\u001b[0m\n\u001b[1;32m     39\u001b[0m \u001b[38;5;28;01mdef\u001b[39;00m \u001b[38;5;21m__init__\u001b[39m(\u001b[38;5;28mself\u001b[39m, opt):\n\u001b[1;32m     40\u001b[0m     \u001b[38;5;124;03m\"\"\"Initialize the pix2pix class.\u001b[39;00m\n\u001b[1;32m     41\u001b[0m \n\u001b[1;32m     42\u001b[0m \u001b[38;5;124;03m    Parameters:\u001b[39;00m\n\u001b[1;32m     43\u001b[0m \u001b[38;5;124;03m        opt (Option class)-- stores all the experiment flags; needs to be a subclass of BaseOptions\u001b[39;00m\n\u001b[1;32m     44\u001b[0m \u001b[38;5;124;03m    \"\"\"\u001b[39;00m\n\u001b[0;32m---> 45\u001b[0m     \u001b[43mBaseModel\u001b[49m\u001b[38;5;241;43m.\u001b[39;49m\u001b[38;5;21;43m__init__\u001b[39;49m\u001b[43m(\u001b[49m\u001b[38;5;28;43mself\u001b[39;49m\u001b[43m,\u001b[49m\u001b[43m \u001b[49m\u001b[43mopt\u001b[49m\u001b[43m)\u001b[49m\n\u001b[1;32m     46\u001b[0m     \u001b[38;5;66;03m# specify the training losses you want to print out. The training/test scripts will call <BaseModel.get_current_losses>\u001b[39;00m\n\u001b[1;32m     47\u001b[0m     \u001b[38;5;28mself\u001b[39m\u001b[38;5;241m.\u001b[39mloss_names \u001b[38;5;241m=\u001b[39m [\u001b[38;5;124m'\u001b[39m\u001b[38;5;124mG_GAN\u001b[39m\u001b[38;5;124m'\u001b[39m, \u001b[38;5;124m'\u001b[39m\u001b[38;5;124mG_L1\u001b[39m\u001b[38;5;124m'\u001b[39m, \u001b[38;5;124m'\u001b[39m\u001b[38;5;124mD_real\u001b[39m\u001b[38;5;124m'\u001b[39m, \u001b[38;5;124m'\u001b[39m\u001b[38;5;124mD_fake\u001b[39m\u001b[38;5;124m'\u001b[39m]\n",
      "File \u001b[0;32m~/LocalDocuments/personal/pytorch-CycleGAN-and-pix2pix/models/base_model.py:34\u001b[0m, in \u001b[0;36mBaseModel.__init__\u001b[0;34m(self, opt)\u001b[0m\n\u001b[1;32m     32\u001b[0m \u001b[38;5;28mself\u001b[39m\u001b[38;5;241m.\u001b[39mopt \u001b[38;5;241m=\u001b[39m opt\n\u001b[1;32m     33\u001b[0m \u001b[38;5;28mself\u001b[39m\u001b[38;5;241m.\u001b[39mgpu_ids \u001b[38;5;241m=\u001b[39m opt\u001b[38;5;241m.\u001b[39mgpu_ids\n\u001b[0;32m---> 34\u001b[0m \u001b[38;5;28mself\u001b[39m\u001b[38;5;241m.\u001b[39misTrain \u001b[38;5;241m=\u001b[39m \u001b[43mopt\u001b[49m\u001b[38;5;241;43m.\u001b[39;49m\u001b[43misTrain\u001b[49m\n\u001b[1;32m     35\u001b[0m \u001b[38;5;28mself\u001b[39m\u001b[38;5;241m.\u001b[39mdevice \u001b[38;5;241m=\u001b[39m torch\u001b[38;5;241m.\u001b[39mdevice(\u001b[38;5;124m'\u001b[39m\u001b[38;5;124mcuda:\u001b[39m\u001b[38;5;132;01m{}\u001b[39;00m\u001b[38;5;124m'\u001b[39m\u001b[38;5;241m.\u001b[39mformat(\u001b[38;5;28mself\u001b[39m\u001b[38;5;241m.\u001b[39mgpu_ids[\u001b[38;5;241m0\u001b[39m])) \u001b[38;5;28;01mif\u001b[39;00m \u001b[38;5;28mself\u001b[39m\u001b[38;5;241m.\u001b[39mgpu_ids \u001b[38;5;28;01melse\u001b[39;00m torch\u001b[38;5;241m.\u001b[39mdevice(\u001b[38;5;124m'\u001b[39m\u001b[38;5;124mcpu\u001b[39m\u001b[38;5;124m'\u001b[39m)  \u001b[38;5;66;03m# get device name: CPU or GPU\u001b[39;00m\n\u001b[1;32m     36\u001b[0m \u001b[38;5;28mself\u001b[39m\u001b[38;5;241m.\u001b[39msave_dir \u001b[38;5;241m=\u001b[39m os\u001b[38;5;241m.\u001b[39mpath\u001b[38;5;241m.\u001b[39mjoin(opt\u001b[38;5;241m.\u001b[39mcheckpoints_dir, opt\u001b[38;5;241m.\u001b[39mname)  \u001b[38;5;66;03m# save all the checkpoints to save_dir\u001b[39;00m\n",
      "\u001b[0;31mAttributeError\u001b[0m: 'Namespace' object has no attribute 'isTrain'"
     ]
    }
   ],
   "source": [
    "model = Pix2PixModel(params)"
   ]
  },
  {
   "cell_type": "code",
   "execution_count": 10,
   "id": "0970e9bc",
   "metadata": {},
   "outputs": [
    {
     "ename": "AttributeError",
     "evalue": "'dict' object has no attribute 'gpu_ids'",
     "output_type": "error",
     "traceback": [
      "\u001b[0;31m---------------------------------------------------------------------------\u001b[0m",
      "\u001b[0;31mAttributeError\u001b[0m                            Traceback (most recent call last)",
      "Cell \u001b[0;32mIn [10], line 1\u001b[0m\n\u001b[0;32m----> 1\u001b[0m \u001b[43mparams\u001b[49m\u001b[38;5;241;43m.\u001b[39;49m\u001b[43mgpu_ids\u001b[49m\n",
      "\u001b[0;31mAttributeError\u001b[0m: 'dict' object has no attribute 'gpu_ids'"
     ]
    }
   ],
   "source": [
    "params.gpu_ids"
   ]
  },
  {
   "cell_type": "code",
   "execution_count": null,
   "id": "f3299c93",
   "metadata": {},
   "outputs": [],
   "source": []
  }
 ],
 "metadata": {
  "kernelspec": {
   "display_name": "Python 3 (ipykernel)",
   "language": "python",
   "name": "python3"
  },
  "language_info": {
   "codemirror_mode": {
    "name": "ipython",
    "version": 3
   },
   "file_extension": ".py",
   "mimetype": "text/x-python",
   "name": "python",
   "nbconvert_exporter": "python",
   "pygments_lexer": "ipython3",
   "version": "3.10.8"
  }
 },
 "nbformat": 4,
 "nbformat_minor": 5
}
