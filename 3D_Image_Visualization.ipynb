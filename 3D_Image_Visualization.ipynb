{
 "cells": [
  {
   "cell_type": "code",
   "execution_count": 1,
   "metadata": {},
   "outputs": [],
   "source": [
    "import os\n",
    "from os import path as osp\n",
    "from itkwidgets import view\n",
    "import numpy as np\n",
    "import glob"
   ]
  },
  {
   "cell_type": "code",
   "execution_count": 2,
   "metadata": {},
   "outputs": [],
   "source": [
    "def normalize(x):\n",
    "    M = 240\n",
    "    m = -1024\n",
    "    x = (x-m)/(M-m)\n",
    "    x = 2*x -1\n",
    "    return x"
   ]
  },
  {
   "cell_type": "code",
   "execution_count": 3,
   "metadata": {},
   "outputs": [],
   "source": [
    "def unnormalize(x):\n",
    "    M = 240\n",
    "    m = -1024\n",
    "    x = 0.5*(x+1)*(M-m) + m\n",
    "    return x"
   ]
  },
  {
   "cell_type": "markdown",
   "metadata": {},
   "source": [
    "# Emphysema"
   ]
  },
  {
   "cell_type": "code",
   "execution_count": 4,
   "metadata": {},
   "outputs": [],
   "source": [
    "patch_idx = 64"
   ]
  },
  {
   "cell_type": "markdown",
   "metadata": {},
   "source": [
    "## High"
   ]
  },
  {
   "cell_type": "code",
   "execution_count": 5,
   "metadata": {},
   "outputs": [],
   "source": [
    "patch_dir = os.path.join('/ocean/projects/asc170022p/rohit33/emphysemapatches/hi/', str(patch_idx))\n",
    "patch_files = glob.glob(patch_dir + '/*.npy')"
   ]
  },
  {
   "cell_type": "code",
   "execution_count": 6,
   "metadata": {
    "scrolled": true
   },
   "outputs": [
    {
     "data": {
      "text/plain": [
       "['/ocean/projects/asc170022p/rohit33/emphysemapatches/hi/64/17476M.npy',\n",
       " '/ocean/projects/asc170022p/rohit33/emphysemapatches/hi/64/22931R.npy',\n",
       " '/ocean/projects/asc170022p/rohit33/emphysemapatches/hi/64/10921Y.npy',\n",
       " '/ocean/projects/asc170022p/rohit33/emphysemapatches/hi/64/21526D.npy',\n",
       " '/ocean/projects/asc170022p/rohit33/emphysemapatches/hi/64/17858A.npy']"
      ]
     },
     "execution_count": 6,
     "metadata": {},
     "output_type": "execute_result"
    }
   ],
   "source": [
    "patch_files[:5]"
   ]
  },
  {
   "cell_type": "code",
   "execution_count": 9,
   "metadata": {},
   "outputs": [],
   "source": [
    "patch_arr = np.load(patch_files[50])"
   ]
  },
  {
   "cell_type": "code",
   "execution_count": 10,
   "metadata": {
    "scrolled": false
   },
   "outputs": [
    {
     "data": {
      "application/vnd.jupyter.widget-view+json": {
       "model_id": "ff51a1ba0638437fa4cb1af4ca86d0f5",
       "version_major": 2,
       "version_minor": 0
      },
      "text/plain": [
       "Viewer(axes=True, geometries=[], gradient_opacity=0.9, point_sets=[], rendered_image=<itk.itkImagePython.itkIm…"
      ]
     },
     "metadata": {},
     "output_type": "display_data"
    }
   ],
   "source": [
    "view(patch_arr, axes=True, vmin=4000, vmax=17000, gradient_opacity=0.9)"
   ]
  },
  {
   "cell_type": "markdown",
   "metadata": {},
   "source": [
    "# Low"
   ]
  },
  {
   "cell_type": "code",
   "execution_count": 11,
   "metadata": {},
   "outputs": [],
   "source": [
    "patch_dir = os.path.join('/ocean/projects/asc170022p/rohit33/emphysemapatches/lo/', str(patch_idx))\n",
    "patch_files = glob.glob(patch_dir + '/*.npy')"
   ]
  },
  {
   "cell_type": "code",
   "execution_count": 12,
   "metadata": {},
   "outputs": [
    {
     "data": {
      "text/plain": [
       "['/ocean/projects/asc170022p/rohit33/emphysemapatches/lo/64/16928Q.npy',\n",
       " '/ocean/projects/asc170022p/rohit33/emphysemapatches/lo/64/16263Q.npy',\n",
       " '/ocean/projects/asc170022p/rohit33/emphysemapatches/lo/64/23260B.npy',\n",
       " '/ocean/projects/asc170022p/rohit33/emphysemapatches/lo/64/19540F.npy',\n",
       " '/ocean/projects/asc170022p/rohit33/emphysemapatches/lo/64/25839S.npy']"
      ]
     },
     "execution_count": 12,
     "metadata": {},
     "output_type": "execute_result"
    }
   ],
   "source": [
    "patch_files[:5]"
   ]
  },
  {
   "cell_type": "code",
   "execution_count": 15,
   "metadata": {},
   "outputs": [],
   "source": [
    "patch_arr = np.load(patch_files[41])"
   ]
  },
  {
   "cell_type": "code",
   "execution_count": 16,
   "metadata": {},
   "outputs": [
    {
     "data": {
      "application/vnd.jupyter.widget-view+json": {
       "model_id": "c512b8856d574a55acbf118458a00dc2",
       "version_major": 2,
       "version_minor": 0
      },
      "text/plain": [
       "Viewer(axes=True, geometries=[], gradient_opacity=0.9, point_sets=[], rendered_image=<itk.itkImagePython.itkIm…"
      ]
     },
     "metadata": {},
     "output_type": "display_data"
    }
   ],
   "source": [
    "view(patch_arr, axes=True, vmin=4000, vmax=17000, gradient_opacity=0.9)"
   ]
  },
  {
   "cell_type": "markdown",
   "metadata": {},
   "source": [
    "# Vessels"
   ]
  },
  {
   "cell_type": "code",
   "execution_count": 17,
   "metadata": {},
   "outputs": [],
   "source": [
    "patch_idx = 150"
   ]
  },
  {
   "cell_type": "markdown",
   "metadata": {},
   "source": [
    "## High"
   ]
  },
  {
   "cell_type": "code",
   "execution_count": 18,
   "metadata": {},
   "outputs": [],
   "source": [
    "patch_dir = os.path.join('/ocean/projects/asc170022p/rohit33/frangipatches/hi/', str(patch_idx))\n",
    "patch_files = glob.glob(patch_dir + '/*.npy')"
   ]
  },
  {
   "cell_type": "code",
   "execution_count": 19,
   "metadata": {},
   "outputs": [],
   "source": [
    "patch_arr = np.load(patch_files[0])"
   ]
  },
  {
   "cell_type": "code",
   "execution_count": 20,
   "metadata": {},
   "outputs": [
    {
     "data": {
      "application/vnd.jupyter.widget-view+json": {
       "model_id": "a51437447e134bdd97dfb45e2d6bdc3b",
       "version_major": 2,
       "version_minor": 0
      },
      "text/plain": [
       "Viewer(axes=True, geometries=[], gradient_opacity=0.9, point_sets=[], rendered_image=<itk.itkImagePython.itkIm…"
      ]
     },
     "metadata": {},
     "output_type": "display_data"
    }
   ],
   "source": [
    "view(patch_arr, axes=True, vmin=4000, vmax=17000, gradient_opacity=0.9)"
   ]
  },
  {
   "cell_type": "markdown",
   "metadata": {},
   "source": [
    "## Low"
   ]
  },
  {
   "cell_type": "code",
   "execution_count": 21,
   "metadata": {},
   "outputs": [],
   "source": [
    "patch_dir = os.path.join('/ocean/projects/asc170022p/rohit33/frangipatches/lo/', str(patch_idx))\n",
    "patch_files = glob.glob(patch_dir + '/*.npy')"
   ]
  },
  {
   "cell_type": "code",
   "execution_count": 22,
   "metadata": {},
   "outputs": [],
   "source": [
    "patch_arr = np.load(patch_files[0])"
   ]
  },
  {
   "cell_type": "code",
   "execution_count": 23,
   "metadata": {},
   "outputs": [
    {
     "data": {
      "application/vnd.jupyter.widget-view+json": {
       "model_id": "656c0788e6374b2090decc1d6e50ab78",
       "version_major": 2,
       "version_minor": 0
      },
      "text/plain": [
       "Viewer(axes=True, geometries=[], gradient_opacity=0.9, point_sets=[], rendered_image=<itk.itkImagePython.itkIm…"
      ]
     },
     "metadata": {},
     "output_type": "display_data"
    }
   ],
   "source": [
    "view(patch_arr, axes=True, vmin=4000, vmax=17000, gradient_opacity=0.9)"
   ]
  },
  {
   "cell_type": "markdown",
   "metadata": {},
   "source": [
    "# CycleGAN checkpoints"
   ]
  },
  {
   "cell_type": "markdown",
   "metadata": {},
   "source": [
    "Here, we visualize the checkpoints saved by our learnt CycleGAN model"
   ]
  },
  {
   "cell_type": "code",
   "execution_count": 26,
   "metadata": {},
   "outputs": [],
   "source": [
    "rootdir = '/ocean/projects/asc170022p/rohit33/cyclegan_models/checkpoints/copd_emphysema_resnet9/'"
   ]
  },
  {
   "cell_type": "code",
   "execution_count": 27,
   "metadata": {},
   "outputs": [
    {
     "name": "stdout",
     "output_type": "stream",
     "text": [
      "004000 /ocean/projects/asc170022p/rohit33/cyclegan_models/checkpoints/copd_emphysema_resnet9/web/images/004000\n",
      "008000 /ocean/projects/asc170022p/rohit33/cyclegan_models/checkpoints/copd_emphysema_resnet9/web/images/008000\n",
      "012000 /ocean/projects/asc170022p/rohit33/cyclegan_models/checkpoints/copd_emphysema_resnet9/web/images/012000\n",
      "016000 /ocean/projects/asc170022p/rohit33/cyclegan_models/checkpoints/copd_emphysema_resnet9/web/images/016000\n",
      "020000 /ocean/projects/asc170022p/rohit33/cyclegan_models/checkpoints/copd_emphysema_resnet9/web/images/020000\n",
      "\n",
      "['004000', '008000', '012000', '016000', '020000', '024000', '028000', '032000', '036000', '040000', '044000', '048000', '052000', '056000', '060000', '064000', '068000', '072000', '076000', '080000', '084000', '088000', '092000', '096000', '100000', '104000', '108000', '112000', '116000', '120000', '124000', '128000', '132000', '136000', '140000', '144000', '148000', '152000', '156000', '160000', '164000', '168000', '172000', '176000', '180000', '184000', '188000', '192000', '196000', '200000', '204000', '208000', '212000', '216000', '220000', '224000', '228000', '232000', '236000', '240000', '244000', '248000', '252000', '256000', '260000', '264000', '268000', '272000', '276000', '280000', '284000', '288000', '292000', '296000', '300000', '304000', '308000', '312000', '316000', '320000', '324000', '328000', '332000', '336000', '340000', '344000', '348000', '352000', '356000', '360000', '364000', '368000', '372000', '376000', '380000', '384000', '388000', '392000', '396000', '400000', '404000', '408000', '412000', '416000', '420000', '424000', '428000', '432000', '436000', '440000', '444000', '448000', '452000', '456000', '460000', '464000', '468000', '472000', '476000', '480000', '484000', '488000', '492000', '496000', '500000', '504000', '508000', '512000', '516000', '520000', '524000', '528000', '532000', '536000', '540000', '544000', '548000', '552000', '556000', '560000', '564000', '568000', '572000', '576000', '580000', '584000', '588000', '592000', '596000', '600000', '604000', '608000', '612000', '616000', '620000', '624000', '628000', '632000', '636000', '640000', '644000', '648000', '652000', '656000', '660000', '664000', '668000', '672000', '676000', '680000', '684000', '688000', '692000', '696000', '700000', '704000', '708000', '712000', '716000', '720000', '724000', '728000', '732000', '736000', '740000', '744000', '748000', '752000', '756000']\n"
     ]
    }
   ],
   "source": [
    "imagesdir = osp.join(rootdir, 'web/images')\n",
    "\n",
    "# Look out for checkpoints\n",
    "for r, dirs, files in os.walk(imagesdir):\n",
    "    dirs = list(map(lambda x: osp.join(r, x), dirs))\n",
    "    dirs = sorted(dirs, key=os.path.getmtime)\n",
    "    checkpoints = list(map(lambda x: (x.split('/')[-1]), dirs))\n",
    "    break\n",
    "\n",
    "for ckpt, d in zip(checkpoints, dirs[:5]):\n",
    "    print(ckpt, d)\n",
    "\n",
    "print()\n",
    "print(checkpoints)"
   ]
  },
  {
   "cell_type": "markdown",
   "metadata": {},
   "source": [
    "## Given checkpoint numbers, visualize real and fake iamges"
   ]
  },
  {
   "cell_type": "code",
   "execution_count": 35,
   "metadata": {},
   "outputs": [],
   "source": [
    "import SimpleITK as sitk"
   ]
  },
  {
   "cell_type": "code",
   "execution_count": 49,
   "metadata": {},
   "outputs": [
    {
     "name": "stdout",
     "output_type": "stream",
     "text": [
      "/ocean/projects/asc170022p/rohit33/cyclegan_models/checkpoints/copd_emphysema_resnet9/web/images/420000\n"
     ]
    }
   ],
   "source": [
    "ckpt = '420000'\n",
    "\n",
    "ckptdir = osp.join(imagesdir, ckpt)\n",
    "files = sorted(glob.glob(osp.join(ckptdir, '*npy')))\n",
    "print(ckptdir)"
   ]
  },
  {
   "cell_type": "code",
   "execution_count": 50,
   "metadata": {},
   "outputs": [],
   "source": [
    "batchidx = 12"
   ]
  },
  {
   "cell_type": "code",
   "execution_count": 51,
   "metadata": {},
   "outputs": [],
   "source": [
    "# Given checkpoint directory, load real and fake images\n",
    "real_A = np.load(osp.join(ckptdir, 'real_A.npy'))\n",
    "real_A_patchidx = np.load(osp.join(ckptdir, 'real_A_patchidx.npy'))\n",
    "real_B = np.load(osp.join(ckptdir, 'real_B.npy'))\n",
    "\n",
    "fake_A = np.load(osp.join(ckptdir, 'fake_A.npy'))\n",
    "real_B_patchidx = np.load(osp.join(ckptdir, 'real_B_patchidx.npy'))\n",
    "fake_B = np.load(osp.join(ckptdir, 'fake_B.npy'))"
   ]
  },
  {
   "cell_type": "code",
   "execution_count": 52,
   "metadata": {},
   "outputs": [
    {
     "name": "stdout",
     "output_type": "stream",
     "text": [
      "[0.5        0.45454547 0.45454547]\n"
     ]
    },
    {
     "data": {
      "application/vnd.jupyter.widget-view+json": {
       "model_id": "d60e9078f5ed4325b0a2a00a8947335f",
       "version_major": 2,
       "version_minor": 0
      },
      "text/plain": [
       "Viewer(axes=True, geometries=[], gradient_opacity=0.9, point_sets=[], rendered_image=<itk.itkImagePython.itkIm…"
      ]
     },
     "metadata": {},
     "output_type": "display_data"
    }
   ],
   "source": [
    "# Load a real image\n",
    "print(real_A_patchidx[batchidx])\n",
    "view(unnormalize(real_A[batchidx, 0]), axes=True, gradient_opacity=0.9)"
   ]
  },
  {
   "cell_type": "code",
   "execution_count": 53,
   "metadata": {},
   "outputs": [],
   "source": [
    "real_A_unnormalized = unnormalize(real_A[batchidx, 0])\n",
    "real_A_unnormalized_mask = real_A_unnormalized < -950\n",
    "real_A_unnormalized_mask = real_A_unnormalized_mask.astype(int)"
   ]
  },
  {
   "cell_type": "code",
   "execution_count": 58,
   "metadata": {},
   "outputs": [
    {
     "data": {
      "text/plain": [
       "1664"
      ]
     },
     "execution_count": 58,
     "metadata": {},
     "output_type": "execute_result"
    }
   ],
   "source": [
    "real_A_unnormalized_mask.sum()"
   ]
  },
  {
   "cell_type": "code",
   "execution_count": 59,
   "metadata": {},
   "outputs": [
    {
     "data": {
      "application/vnd.jupyter.widget-view+json": {
       "model_id": "11f64d7974fa47d38256a148a31d0aab",
       "version_major": 2,
       "version_minor": 0
      },
      "text/plain": [
       "Viewer(axes=True, geometries=[], gradient_opacity=0.9, point_sets=[], rendered_image=<itk.itkImagePython.itkIm…"
      ]
     },
     "metadata": {},
     "output_type": "display_data"
    }
   ],
   "source": [
    "view(real_A_unnormalized_mask, axes=True, gradient_opacity=0.9)"
   ]
  },
  {
   "cell_type": "code",
   "execution_count": 60,
   "metadata": {},
   "outputs": [],
   "source": [
    "img_A = sitk.GetImageFromArray(real_A_unnormalized)\n",
    "mask_A = sitk.GetImageFromArray(real_A_unnormalized_mask)\n",
    "\n",
    "sitk.WriteImage(img_A, 'real_img_A.nii')\n",
    "sitk.WriteImage(mask_A, 'real_mask_A.nii')"
   ]
  },
  {
   "cell_type": "code",
   "execution_count": 61,
   "metadata": {},
   "outputs": [
    {
     "data": {
      "application/vnd.jupyter.widget-view+json": {
       "model_id": "bdb3c778374448d69d1150587eb27cb3",
       "version_major": 2,
       "version_minor": 0
      },
      "text/plain": [
       "Viewer(axes=True, geometries=[], gradient_opacity=0.9, point_sets=[], rendered_image=<itk.itkImagePython.itkIm…"
      ]
     },
     "metadata": {},
     "output_type": "display_data"
    }
   ],
   "source": [
    "view(unnormalize(fake_B[batchidx, 0]), axes=True, gradient_opacity=0.9)"
   ]
  },
  {
   "cell_type": "code",
   "execution_count": 56,
   "metadata": {},
   "outputs": [],
   "source": [
    "fake_B_unnormalized = unnormalize(fake_B[batchidx, 0])\n",
    "fake_B_unnormalized_mask = fake_B_unnormalized < -950\n",
    "fake_B_unnormalized_mask = fake_B_unnormalized_mask.astype(int)"
   ]
  },
  {
   "cell_type": "code",
   "execution_count": 57,
   "metadata": {},
   "outputs": [
    {
     "data": {
      "text/plain": [
       "24561"
      ]
     },
     "execution_count": 57,
     "metadata": {},
     "output_type": "execute_result"
    }
   ],
   "source": [
    "fake_B_unnormalized_mask.sum()"
   ]
  },
  {
   "cell_type": "code",
   "execution_count": 62,
   "metadata": {},
   "outputs": [
    {
     "data": {
      "application/vnd.jupyter.widget-view+json": {
       "model_id": "8d2edaf468314c169026615fd0a375a3",
       "version_major": 2,
       "version_minor": 0
      },
      "text/plain": [
       "Viewer(axes=True, geometries=[], gradient_opacity=0.9, point_sets=[], rendered_image=<itk.itkImagePython.itkIm…"
      ]
     },
     "metadata": {},
     "output_type": "display_data"
    }
   ],
   "source": [
    "view(fake_B_unnormalized_mask, axes=True, gradient_opacity=0.9)"
   ]
  },
  {
   "cell_type": "code",
   "execution_count": 63,
   "metadata": {},
   "outputs": [],
   "source": [
    "fake_B = sitk.GetImageFromArray(fake_B_unnormalized)\n",
    "mask_B = sitk.GetImageFromArray(fake_B_unnormalized_mask)\n",
    "\n",
    "sitk.WriteImage(fake_B, 'fake_img_B.nii')\n",
    "sitk.WriteImage(mask_B, 'fake_mask_B.nii')"
   ]
  },
  {
   "cell_type": "code",
   "execution_count": null,
   "metadata": {},
   "outputs": [],
   "source": []
  },
  {
   "cell_type": "code",
   "execution_count": null,
   "metadata": {},
   "outputs": [],
   "source": []
  },
  {
   "cell_type": "markdown",
   "metadata": {},
   "source": [
    "# CycleGAN saved outputs"
   ]
  },
  {
   "cell_type": "markdown",
   "metadata": {},
   "source": [
    "## Emphsema"
   ]
  },
  {
   "cell_type": "code",
   "execution_count": 273,
   "metadata": {},
   "outputs": [
    {
     "name": "stdout",
     "output_type": "stream",
     "text": [
      "004000 /ocean/projects/asc170022p/rohit33/cyclegan_models/checkpoints/copd_emphysema_resnet9/web/images/004000\n",
      "008000 /ocean/projects/asc170022p/rohit33/cyclegan_models/checkpoints/copd_emphysema_resnet9/web/images/008000\n",
      "012000 /ocean/projects/asc170022p/rohit33/cyclegan_models/checkpoints/copd_emphysema_resnet9/web/images/012000\n",
      "016000 /ocean/projects/asc170022p/rohit33/cyclegan_models/checkpoints/copd_emphysema_resnet9/web/images/016000\n",
      "020000 /ocean/projects/asc170022p/rohit33/cyclegan_models/checkpoints/copd_emphysema_resnet9/web/images/020000\n",
      "\n",
      "['004000', '008000', '012000', '016000', '020000', '024000', '028000', '032000', '036000', '040000', '044000', '048000', '052000', '056000', '060000', '064000', '068000', '072000', '076000', '080000', '084000', '088000', '092000', '096000', '100000', '104000', '108000', '112000', '116000', '120000', '124000', '128000', '132000', '136000', '140000', '144000', '148000', '152000', '156000', '160000', '164000', '168000', '172000', '176000', '180000', '184000', '188000', '192000', '196000', '200000', '204000', '208000', '212000', '216000', '220000', '224000', '228000', '232000', '236000', '240000', '244000', '248000', '252000', '256000', '260000', '264000', '268000', '272000', '276000', '280000', '284000', '288000', '292000', '296000', '300000', '304000', '308000', '312000', '316000', '320000', '324000', '328000', '332000', '336000', '340000', '344000', '348000', '352000', '356000', '360000', '364000', '368000', '372000', '376000', '380000', '384000', '388000', '392000', '396000', '400000', '404000', '408000', '412000', '416000', '420000', '424000', '428000', '432000', '436000', '440000', '444000', '448000', '452000', '456000', '460000', '464000', '468000', '472000', '476000', '480000', '484000', '488000', '492000', '496000', '500000', '504000', '508000', '512000', '516000', '520000', '524000', '528000', '532000', '536000', '540000', '544000', '548000', '552000', '556000', '560000', '564000', '568000', '572000', '576000', '580000', '584000', '588000', '592000', '596000', '600000', '604000', '608000', '612000', '616000', '620000', '624000', '628000', '632000', '636000', '640000', '644000', '648000', '652000', '656000', '660000', '664000', '668000', '672000', '676000', '680000', '684000', '688000', '692000', '696000', '700000', '704000', '708000', '712000', '716000', '720000', '724000', '728000', '732000', '736000', '740000', '744000', '748000', '752000', '756000']\n"
     ]
    }
   ],
   "source": [
    "rootdir = '/ocean/projects/asc170022p/rohit33/cyclegan_models/checkpoints/copd_emphysema_resnet9'\n",
    "imagesdir = osp.join(rootdir, 'web/images')\n",
    "\n",
    "# Look out for checkpoints\n",
    "for r, dirs, files in os.walk(imagesdir):\n",
    "    dirs = list(map(lambda x: osp.join(r, x), dirs))\n",
    "    dirs = sorted(dirs, key=os.path.getmtime)\n",
    "    checkpoints = list(map(lambda x: (x.split('/')[-1]), dirs))\n",
    "    break\n",
    "\n",
    "for ckpt, d in zip(checkpoints, dirs[:5]):\n",
    "    print(ckpt, d)\n",
    "\n",
    "print()\n",
    "print(checkpoints)"
   ]
  },
  {
   "cell_type": "code",
   "execution_count": 293,
   "metadata": {},
   "outputs": [],
   "source": [
    "ckpt = '420000'\n",
    "batch_idx = 12\n",
    "G = 'B'\n",
    "F = 'A'"
   ]
  },
  {
   "cell_type": "code",
   "execution_count": 294,
   "metadata": {},
   "outputs": [],
   "source": [
    "PATH = osp.join(imagesdir, ckpt)"
   ]
  },
  {
   "cell_type": "code",
   "execution_count": 295,
   "metadata": {},
   "outputs": [],
   "source": [
    "real_arr = np.load(os.path.join(PATH, 'real_'+G+'.npy'))"
   ]
  },
  {
   "cell_type": "code",
   "execution_count": 296,
   "metadata": {},
   "outputs": [],
   "source": [
    "real = real_arr[batch_idx,:,:,:]\n",
    "real = np.squeeze(real)\n",
    "real = unnormalize(real)"
   ]
  },
  {
   "cell_type": "code",
   "execution_count": 297,
   "metadata": {},
   "outputs": [
    {
     "data": {
      "application/vnd.jupyter.widget-view+json": {
       "model_id": "3bc36b53a8b34512a9778ea2b6b435f0",
       "version_major": 2,
       "version_minor": 0
      },
      "text/plain": [
       "Viewer(axes=True, geometries=[], gradient_opacity=0.9, point_sets=[], rendered_image=<itk.itkImagePython.itkIm…"
      ]
     },
     "metadata": {},
     "output_type": "display_data"
    }
   ],
   "source": [
    "view(real, axes=True, vmin=4000, vmax=17000, gradient_opacity=0.9)"
   ]
  },
  {
   "cell_type": "code",
   "execution_count": 298,
   "metadata": {},
   "outputs": [],
   "source": [
    "real_A = real\n",
    "real_A_mask = real_A < -950\n",
    "real_A_mask = real_A_mask.astype(int)"
   ]
  },
  {
   "cell_type": "code",
   "execution_count": 299,
   "metadata": {},
   "outputs": [
    {
     "data": {
      "text/plain": [
       "13058"
      ]
     },
     "execution_count": 299,
     "metadata": {},
     "output_type": "execute_result"
    }
   ],
   "source": [
    "real_A_mask.sum()"
   ]
  },
  {
   "cell_type": "code",
   "execution_count": 300,
   "metadata": {},
   "outputs": [],
   "source": [
    "real_A_nii = sitk.GetImageFromArray(real_A)\n",
    "mask_A_nii = sitk.GetImageFromArray(real_A_unnormalized_mask)\n",
    "sitk.WriteImage(real_A_nii, 'real_img_'+G+'.nii')\n",
    "sitk.WriteImage(mask_A_nii, 'real_mask_'+G+'.nii')"
   ]
  },
  {
   "cell_type": "code",
   "execution_count": 301,
   "metadata": {},
   "outputs": [],
   "source": [
    "fake_arr = np.load(os.path.join(PATH, 'fake_'+F+'.npy'))"
   ]
  },
  {
   "cell_type": "code",
   "execution_count": 302,
   "metadata": {},
   "outputs": [],
   "source": [
    "fake = fake_arr[batch_idx,:,:,:]\n",
    "fake = np.squeeze(fake)\n",
    "fake = unnormalize(fake)"
   ]
  },
  {
   "cell_type": "code",
   "execution_count": 303,
   "metadata": {
    "scrolled": false
   },
   "outputs": [
    {
     "data": {
      "application/vnd.jupyter.widget-view+json": {
       "model_id": "5997f2b251504d07b290f51d193c128b",
       "version_major": 2,
       "version_minor": 0
      },
      "text/plain": [
       "Viewer(axes=True, geometries=[], gradient_opacity=0.9, point_sets=[], rendered_image=<itk.itkImagePython.itkIm…"
      ]
     },
     "metadata": {},
     "output_type": "display_data"
    }
   ],
   "source": [
    "view(fake, axes=True, vmin=4000, vmax=17000, gradient_opacity=0.9)"
   ]
  },
  {
   "cell_type": "code",
   "execution_count": 304,
   "metadata": {},
   "outputs": [],
   "source": [
    "fake_B = fake\n",
    "fake_B_mask = fake_B < -950\n",
    "fake_B_mask = fake_B_mask.astype(int)"
   ]
  },
  {
   "cell_type": "code",
   "execution_count": 305,
   "metadata": {},
   "outputs": [
    {
     "data": {
      "text/plain": [
       "82"
      ]
     },
     "execution_count": 305,
     "metadata": {},
     "output_type": "execute_result"
    }
   ],
   "source": [
    "fake_B_mask.sum()"
   ]
  },
  {
   "cell_type": "code",
   "execution_count": 306,
   "metadata": {},
   "outputs": [],
   "source": [
    "fake_B_nii = sitk.GetImageFromArray(fake_B)\n",
    "mask_B_nii = sitk.GetImageFromArray(fake_B_mask)\n",
    "sitk.WriteImage(fake_B_nii, 'fake_img_'+F+'.nii')\n",
    "sitk.WriteImage(mask_B_nii, 'fake_mask_'+F+'.nii')"
   ]
  },
  {
   "cell_type": "code",
   "execution_count": 310,
   "metadata": {},
   "outputs": [],
   "source": [
    "rec_arr = np.load(os.path.join(PATH, 'rec_'+G+'.npy'))"
   ]
  },
  {
   "cell_type": "code",
   "execution_count": 311,
   "metadata": {},
   "outputs": [],
   "source": [
    "rec = rec_arr[batch_idx,:,:,:]\n",
    "rec = np.squeeze(rec)\n",
    "rec = unnormalize(rec)"
   ]
  },
  {
   "cell_type": "code",
   "execution_count": 312,
   "metadata": {},
   "outputs": [
    {
     "data": {
      "application/vnd.jupyter.widget-view+json": {
       "model_id": "ade5b0efa7c64b84b8d32cd0a3771586",
       "version_major": 2,
       "version_minor": 0
      },
      "text/plain": [
       "Viewer(axes=True, geometries=[], gradient_opacity=0.9, point_sets=[], rendered_image=<itk.itkImagePython.itkIm…"
      ]
     },
     "metadata": {},
     "output_type": "display_data"
    }
   ],
   "source": [
    "view(rec, axes=True, vmin=4000, vmax=17000, gradient_opacity=0.9)"
   ]
  },
  {
   "cell_type": "code",
   "execution_count": 313,
   "metadata": {},
   "outputs": [],
   "source": [
    "rec_A = rec\n",
    "rec_A_mask = rec_A < -950\n",
    "rec_A_mask = rec_A_mask.astype(int)"
   ]
  },
  {
   "cell_type": "code",
   "execution_count": 314,
   "metadata": {},
   "outputs": [
    {
     "data": {
      "text/plain": [
       "11971"
      ]
     },
     "execution_count": 314,
     "metadata": {},
     "output_type": "execute_result"
    }
   ],
   "source": [
    "rec_A_mask.sum()"
   ]
  },
  {
   "cell_type": "markdown",
   "metadata": {},
   "source": [
    "## Vessels"
   ]
  },
  {
   "cell_type": "code",
   "execution_count": 493,
   "metadata": {},
   "outputs": [
    {
     "name": "stdout",
     "output_type": "stream",
     "text": [
      "004000 /ocean/projects/asc170022p/rohit33/cyclegan_models/checkpoints/frangi_resnet9_part5_lambda50/web/images/004000\n",
      "008000 /ocean/projects/asc170022p/rohit33/cyclegan_models/checkpoints/frangi_resnet9_part5_lambda50/web/images/008000\n",
      "012000 /ocean/projects/asc170022p/rohit33/cyclegan_models/checkpoints/frangi_resnet9_part5_lambda50/web/images/012000\n",
      "016000 /ocean/projects/asc170022p/rohit33/cyclegan_models/checkpoints/frangi_resnet9_part5_lambda50/web/images/016000\n",
      "020000 /ocean/projects/asc170022p/rohit33/cyclegan_models/checkpoints/frangi_resnet9_part5_lambda50/web/images/020000\n",
      "\n",
      "['004000', '008000', '012000', '016000', '020000', '024000', '028000', '032000', '036000', '040000', '044000', '048000', '052000', '056000', '060000', '064000', '068000', '072000', '076000', '080000', '084000', '088000', '092000', '096000', '100000', '104000', '108000', '112000', '116000', '120000', '124000', '128000', '132000', '136000', '140000', '144000', '148000', '152000', '156000', '160000', '164000', '168000', '172000', '176000', '180000', '184000', '188000', '192000', '196000', '200000', '204000', '208000', '212000', '216000', '220000', '224000', '228000', '232000', '236000', '240000', '244000', '248000', '252000', '256000', '260000', '264000', '268000', '272000', '276000', '280000', '284000', '288000', '292000', '296000', '300000', '304000', '308000', '312000', '316000', '320000', '324000', '328000', '332000', '336000', '340000', '344000', '348000', '352000', '356000', '360000', '364000', '368000', '372000', '376000', '380000', '384000', '388000', '392000', '396000', '400000', '404000', '408000', '412000', '416000', '420000', '424000', '428000', '432000', '436000', '440000', '444000', '448000', '452000', '456000', '460000', '464000', '468000', '472000', '476000', '480000', '484000', '488000', '492000', '496000', '500000', '504000', '508000', '512000', '516000', '520000', '524000', '528000', '532000', '536000', '540000', '544000', '548000', '552000', '556000', '560000', '564000', '568000', '572000', '576000', '580000', '584000', '588000', '592000', '596000', '600000', '604000', '608000', '612000', '616000', '620000', '624000', '628000', '632000', '636000', '640000', '644000', '648000', '652000', '656000', '660000', '664000', '668000', '672000', '676000', '680000', '684000', '688000', '692000', '696000', '700000', '704000', '708000', '712000', '716000', '720000', '724000', '728000', '732000', '736000', '740000', '744000', '748000', '752000', '756000', '760000', '764000', '768000', '772000', '776000', '780000', '784000', '788000', '792000', '796000', '800000', '804000', '808000', '812000', '816000', '820000', '824000', '828000', '832000', '836000', '840000', '844000', '848000', '852000', '856000', '860000', '864000', '868000', '872000', '876000', '880000', '884000', '888000', '892000', '896000', '900000', '904000', '908000', '912000', '916000', '920000', '924000', '928000', '932000', '936000', '940000', '944000', '948000', '952000', '956000', '960000', '964000', '968000', '972000', '976000', '980000', '984000', '988000']\n"
     ]
    }
   ],
   "source": [
    "rootdir = '/ocean/projects/asc170022p/rohit33/cyclegan_models/checkpoints/frangi_resnet9_part5_lambda50/'\n",
    "imagesdir = osp.join(rootdir, 'web/images')\n",
    "\n",
    "# Look out for checkpoints\n",
    "for r, dirs, files in os.walk(imagesdir):\n",
    "    dirs = list(map(lambda x: osp.join(r, x), dirs))\n",
    "    dirs = sorted(dirs, key=os.path.getmtime)\n",
    "    checkpoints = list(map(lambda x: (x.split('/')[-1]), dirs))\n",
    "    break\n",
    "\n",
    "for ckpt, d in zip(checkpoints, dirs[:5]):\n",
    "    print(ckpt, d)\n",
    "\n",
    "print()\n",
    "print(checkpoints)"
   ]
  },
  {
   "cell_type": "code",
   "execution_count": 525,
   "metadata": {},
   "outputs": [],
   "source": [
    "ckpt = '988000'\n",
    "batch_idx = 5\n",
    "G = 'A'\n",
    "F = 'B'"
   ]
  },
  {
   "cell_type": "code",
   "execution_count": 526,
   "metadata": {},
   "outputs": [],
   "source": [
    "PATH = osp.join(imagesdir, ckpt)"
   ]
  },
  {
   "cell_type": "code",
   "execution_count": 527,
   "metadata": {},
   "outputs": [
    {
     "data": {
      "text/plain": [
       "'/ocean/projects/asc170022p/rohit33/cyclegan_models/checkpoints/frangi_resnet9_part5_lambda50/web/images/988000'"
      ]
     },
     "execution_count": 527,
     "metadata": {},
     "output_type": "execute_result"
    }
   ],
   "source": [
    "PATH"
   ]
  },
  {
   "cell_type": "code",
   "execution_count": 528,
   "metadata": {},
   "outputs": [],
   "source": [
    "real_arr = np.load(os.path.join(PATH, 'real_'+G+'.npy'))"
   ]
  },
  {
   "cell_type": "code",
   "execution_count": 529,
   "metadata": {},
   "outputs": [],
   "source": [
    "real = real_arr[batch_idx,:,:,:]\n",
    "real = np.squeeze(real)\n",
    "real = unnormalize(real)"
   ]
  },
  {
   "cell_type": "code",
   "execution_count": 530,
   "metadata": {},
   "outputs": [
    {
     "data": {
      "application/vnd.jupyter.widget-view+json": {
       "model_id": "e60ee05daa0745a89b85d90a2b6e7438",
       "version_major": 2,
       "version_minor": 0
      },
      "text/plain": [
       "Viewer(axes=True, geometries=[], gradient_opacity=0.9, point_sets=[], rendered_image=<itk.itkImagePython.itkIm…"
      ]
     },
     "metadata": {},
     "output_type": "display_data"
    }
   ],
   "source": [
    "view(real, axes=True, vmin=4000, vmax=17000, gradient_opacity=0.9)"
   ]
  },
  {
   "cell_type": "code",
   "execution_count": 532,
   "metadata": {},
   "outputs": [],
   "source": [
    "fake_arr = np.load(os.path.join(PATH, 'fake_'+F+'.npy'))"
   ]
  },
  {
   "cell_type": "code",
   "execution_count": 533,
   "metadata": {},
   "outputs": [],
   "source": [
    "fake = fake_arr[batch_idx,:,:,:]\n",
    "fake = np.squeeze(fake)\n",
    "fake = unnormalize(fake)"
   ]
  },
  {
   "cell_type": "code",
   "execution_count": 534,
   "metadata": {},
   "outputs": [
    {
     "data": {
      "application/vnd.jupyter.widget-view+json": {
       "model_id": "39a3e6e88fb44d1090a718874cc0ac38",
       "version_major": 2,
       "version_minor": 0
      },
      "text/plain": [
       "Viewer(axes=True, geometries=[], gradient_opacity=0.9, point_sets=[], rendered_image=<itk.itkImagePython.itkIm…"
      ]
     },
     "metadata": {},
     "output_type": "display_data"
    }
   ],
   "source": [
    "view(fake, axes=True, vmin=4000, vmax=17000, gradient_opacity=0.9)"
   ]
  },
  {
   "cell_type": "code",
   "execution_count": 535,
   "metadata": {},
   "outputs": [],
   "source": [
    "rec_arr = np.load(os.path.join(PATH, 'rec_'+G+'.npy'))"
   ]
  },
  {
   "cell_type": "code",
   "execution_count": 536,
   "metadata": {},
   "outputs": [],
   "source": [
    "rec = rec_arr[batch_idx,:,:,:]\n",
    "rec = np.squeeze(rec)\n",
    "rec = unnormalize(rec)"
   ]
  },
  {
   "cell_type": "code",
   "execution_count": 537,
   "metadata": {},
   "outputs": [
    {
     "data": {
      "application/vnd.jupyter.widget-view+json": {
       "model_id": "6cbf7c8ebd224ed8a387b1ac3ff8b4ed",
       "version_major": 2,
       "version_minor": 0
      },
      "text/plain": [
       "Viewer(axes=True, geometries=[], gradient_opacity=0.9, point_sets=[], rendered_image=<itk.itkImagePython.itkIm…"
      ]
     },
     "metadata": {},
     "output_type": "display_data"
    }
   ],
   "source": [
    "view(rec, axes=True, vmin=4000, vmax=17000, gradient_opacity=0.9)"
   ]
  },
  {
   "cell_type": "code",
   "execution_count": null,
   "metadata": {},
   "outputs": [],
   "source": []
  },
  {
   "cell_type": "code",
   "execution_count": null,
   "metadata": {},
   "outputs": [],
   "source": []
  },
  {
   "cell_type": "code",
   "execution_count": null,
   "metadata": {},
   "outputs": [],
   "source": []
  },
  {
   "cell_type": "markdown",
   "metadata": {},
   "source": [
    "# Emphsema GAN"
   ]
  },
  {
   "cell_type": "code",
   "execution_count": 104,
   "metadata": {},
   "outputs": [],
   "source": [
    "import torch\n",
    "import torch.nn as nn\n",
    "from models.networks3d import Unet3dPatchGenerator"
   ]
  },
  {
   "cell_type": "markdown",
   "metadata": {},
   "source": [
    "## High model"
   ]
  },
  {
   "cell_type": "code",
   "execution_count": 342,
   "metadata": {},
   "outputs": [
    {
     "data": {
      "text/plain": [
       "Unet3dPatchGenerator(\n",
       "  (encoder): Sequential(\n",
       "    (0): BasicBlock3d(\n",
       "      (conv): Conv3d(1, 8, kernel_size=(3, 3, 3), stride=(1, 1, 1), padding=(1, 1, 1))\n",
       "      (layer): BatchNorm3d(8, eps=1e-05, momentum=0.1, affine=True, track_running_stats=True)\n",
       "      (activ): ELU(alpha=1.0)\n",
       "    )\n",
       "    (1): BasicBlock3d(\n",
       "      (conv): Conv3d(8, 8, kernel_size=(3, 3, 3), stride=(2, 2, 2), padding=(1, 1, 1))\n",
       "      (layer): BatchNorm3d(8, eps=1e-05, momentum=0.1, affine=True, track_running_stats=True)\n",
       "      (activ): ELU(alpha=1.0)\n",
       "    )\n",
       "    (2): BasicBlock3d(\n",
       "      (conv): Conv3d(8, 16, kernel_size=(3, 3, 3), stride=(1, 1, 1), padding=(1, 1, 1))\n",
       "      (layer): BatchNorm3d(16, eps=1e-05, momentum=0.1, affine=True, track_running_stats=True)\n",
       "      (activ): ELU(alpha=1.0)\n",
       "    )\n",
       "    (3): BasicBlock3d(\n",
       "      (conv): Conv3d(16, 16, kernel_size=(3, 3, 3), stride=(1, 1, 1), padding=(1, 1, 1))\n",
       "      (layer): BatchNorm3d(16, eps=1e-05, momentum=0.1, affine=True, track_running_stats=True)\n",
       "      (activ): ELU(alpha=1.0)\n",
       "    )\n",
       "    (4): BasicBlock3d(\n",
       "      (conv): Conv3d(16, 16, kernel_size=(3, 3, 3), stride=(2, 2, 2), padding=(1, 1, 1))\n",
       "      (layer): BatchNorm3d(16, eps=1e-05, momentum=0.1, affine=True, track_running_stats=True)\n",
       "      (activ): ELU(alpha=1.0)\n",
       "    )\n",
       "    (5): BasicBlock3d(\n",
       "      (conv): Conv3d(16, 32, kernel_size=(3, 3, 3), stride=(1, 1, 1), padding=(1, 1, 1))\n",
       "      (layer): BatchNorm3d(32, eps=1e-05, momentum=0.1, affine=True, track_running_stats=True)\n",
       "      (activ): ELU(alpha=1.0)\n",
       "    )\n",
       "    (6): BasicBlock3d(\n",
       "      (conv): Conv3d(32, 32, kernel_size=(3, 3, 3), stride=(1, 1, 1), padding=(1, 1, 1))\n",
       "      (layer): BatchNorm3d(32, eps=1e-05, momentum=0.1, affine=True, track_running_stats=True)\n",
       "      (activ): ELU(alpha=1.0)\n",
       "    )\n",
       "    (7): BasicBlock3d(\n",
       "      (conv): Conv3d(32, 32, kernel_size=(3, 3, 3), stride=(2, 2, 2), padding=(1, 1, 1))\n",
       "      (layer): BatchNorm3d(32, eps=1e-05, momentum=0.1, affine=True, track_running_stats=True)\n",
       "      (activ): ELU(alpha=1.0)\n",
       "    )\n",
       "  )\n",
       "  (embed): Embedding(581, 32)\n",
       "  (decoder): Sequential(\n",
       "    (0): BasicBlock3d(\n",
       "      (conv): Conv3d(64, 32, kernel_size=(3, 3, 3), stride=(1, 1, 1), padding=(1, 1, 1))\n",
       "      (layer): BatchNorm3d(32, eps=1e-05, momentum=0.1, affine=True, track_running_stats=True)\n",
       "      (activ): ELU(alpha=1.0)\n",
       "    )\n",
       "    (1): BasicBlock3d(\n",
       "      (conv): Conv3d(32, 16, kernel_size=(3, 3, 3), stride=(1, 1, 1), padding=(1, 1, 1))\n",
       "      (layer): BatchNorm3d(16, eps=1e-05, momentum=0.1, affine=True, track_running_stats=True)\n",
       "      (activ): ELU(alpha=1.0)\n",
       "      (upsample): Upsample(scale_factor=2.0, mode=trilinear)\n",
       "    )\n",
       "    (2): BasicBlock3d(\n",
       "      (conv): Conv3d(16, 16, kernel_size=(3, 3, 3), stride=(1, 1, 1), padding=(1, 1, 1))\n",
       "      (layer): BatchNorm3d(16, eps=1e-05, momentum=0.1, affine=True, track_running_stats=True)\n",
       "      (activ): ELU(alpha=1.0)\n",
       "    )\n",
       "    (3): BasicBlock3d(\n",
       "      (conv): Conv3d(16, 16, kernel_size=(3, 3, 3), stride=(1, 1, 1), padding=(1, 1, 1))\n",
       "      (layer): BatchNorm3d(16, eps=1e-05, momentum=0.1, affine=True, track_running_stats=True)\n",
       "      (activ): ELU(alpha=1.0)\n",
       "    )\n",
       "    (4): BasicBlock3d(\n",
       "      (conv): Conv3d(16, 8, kernel_size=(3, 3, 3), stride=(1, 1, 1), padding=(1, 1, 1))\n",
       "      (layer): BatchNorm3d(8, eps=1e-05, momentum=0.1, affine=True, track_running_stats=True)\n",
       "      (activ): ELU(alpha=1.0)\n",
       "      (upsample): Upsample(scale_factor=2.0, mode=trilinear)\n",
       "    )\n",
       "    (5): BasicBlock3d(\n",
       "      (conv): Conv3d(8, 8, kernel_size=(3, 3, 3), stride=(1, 1, 1), padding=(1, 1, 1))\n",
       "      (layer): BatchNorm3d(8, eps=1e-05, momentum=0.1, affine=True, track_running_stats=True)\n",
       "      (activ): ELU(alpha=1.0)\n",
       "    )\n",
       "    (6): BasicBlock3d(\n",
       "      (conv): Conv3d(8, 8, kernel_size=(3, 3, 3), stride=(1, 1, 1), padding=(1, 1, 1))\n",
       "      (layer): BatchNorm3d(8, eps=1e-05, momentum=0.1, affine=True, track_running_stats=True)\n",
       "      (activ): ELU(alpha=1.0)\n",
       "    )\n",
       "    (7): BasicBlock3d(\n",
       "      (conv): Conv3d(8, 8, kernel_size=(3, 3, 3), stride=(1, 1, 1), padding=(1, 1, 1))\n",
       "      (layer): BatchNorm3d(8, eps=1e-05, momentum=0.1, affine=True, track_running_stats=True)\n",
       "      (activ): ELU(alpha=1.0)\n",
       "      (upsample): Upsample(scale_factor=2.0, mode=trilinear)\n",
       "    )\n",
       "    (8): BasicBlock3d(\n",
       "      (conv): Conv3d(8, 1, kernel_size=(3, 3, 3), stride=(1, 1, 1), padding=(1, 1, 1))\n",
       "    )\n",
       "  )\n",
       ")"
      ]
     },
     "execution_count": 342,
     "metadata": {},
     "output_type": "execute_result"
    }
   ],
   "source": [
    "model_A = Unet3dPatchGenerator(1, 1, nn.BatchNorm3d)\n",
    "PATH_A = '/ocean/projects/asc170022p/rohit33/cyclegan_models/checkpoints/copd_emphysema/5_net_G_A.pth'\n",
    "model_A.load_state_dict(torch.load(PATH_A))\n",
    "model_A.eval()"
   ]
  },
  {
   "cell_type": "code",
   "execution_count": 381,
   "metadata": {},
   "outputs": [],
   "source": [
    "patch_idx = 120\n",
    "patch_dir = os.path.join('/ocean/projects/asc170022p/rohit33/emphysemapatches/lo/', str(patch_idx))\n",
    "patch_files = glob.glob(patch_dir + '/*.npy')"
   ]
  },
  {
   "cell_type": "code",
   "execution_count": 382,
   "metadata": {},
   "outputs": [],
   "source": [
    "patch_arr = np.load(patch_files[0])\n",
    "patch_arr_norm = normalize(patch_arr)\n",
    "patch_tensor = torch.from_numpy(patch_arr_norm).unsqueeze(0).unsqueeze(0)\n",
    "fake_A_tensor = model(patch_tensor, torch.tensor(patch_idx))\n",
    "fake_A_arr = fake_A_tensor.squeeze(0).squeeze(0).detach().numpy()\n",
    "fake_A_patch_arr = unnormalize(fake_A_arr)"
   ]
  },
  {
   "cell_type": "code",
   "execution_count": 383,
   "metadata": {},
   "outputs": [
    {
     "data": {
      "application/vnd.jupyter.widget-view+json": {
       "model_id": "6bd57b3013a148d58bb005cbd3dc8d26",
       "version_major": 2,
       "version_minor": 0
      },
      "text/plain": [
       "Viewer(axes=True, geometries=[], gradient_opacity=0.9, point_sets=[], rendered_image=<itk.itkImagePython.itkIm…"
      ]
     },
     "metadata": {},
     "output_type": "display_data"
    }
   ],
   "source": [
    "view(patch_arr, axes=True, vmin=4000, vmax=17000, gradient_opacity=0.9)"
   ]
  },
  {
   "cell_type": "code",
   "execution_count": 384,
   "metadata": {},
   "outputs": [
    {
     "data": {
      "application/vnd.jupyter.widget-view+json": {
       "model_id": "c75fb764c839491eb8040a738d6d0c9d",
       "version_major": 2,
       "version_minor": 0
      },
      "text/plain": [
       "Viewer(axes=True, geometries=[], gradient_opacity=0.9, point_sets=[], rendered_image=<itk.itkImagePython.itkIm…"
      ]
     },
     "metadata": {},
     "output_type": "display_data"
    }
   ],
   "source": [
    "view(fake_A_patch_arr, axes=True, vmin=4000, vmax=17000, gradient_opacity=0.9)"
   ]
  },
  {
   "cell_type": "markdown",
   "metadata": {},
   "source": [
    "## Low model"
   ]
  },
  {
   "cell_type": "code",
   "execution_count": 385,
   "metadata": {},
   "outputs": [
    {
     "data": {
      "text/plain": [
       "Unet3dPatchGenerator(\n",
       "  (encoder): Sequential(\n",
       "    (0): BasicBlock3d(\n",
       "      (conv): Conv3d(1, 8, kernel_size=(3, 3, 3), stride=(1, 1, 1), padding=(1, 1, 1))\n",
       "      (layer): BatchNorm3d(8, eps=1e-05, momentum=0.1, affine=True, track_running_stats=True)\n",
       "      (activ): ELU(alpha=1.0)\n",
       "    )\n",
       "    (1): BasicBlock3d(\n",
       "      (conv): Conv3d(8, 8, kernel_size=(3, 3, 3), stride=(2, 2, 2), padding=(1, 1, 1))\n",
       "      (layer): BatchNorm3d(8, eps=1e-05, momentum=0.1, affine=True, track_running_stats=True)\n",
       "      (activ): ELU(alpha=1.0)\n",
       "    )\n",
       "    (2): BasicBlock3d(\n",
       "      (conv): Conv3d(8, 16, kernel_size=(3, 3, 3), stride=(1, 1, 1), padding=(1, 1, 1))\n",
       "      (layer): BatchNorm3d(16, eps=1e-05, momentum=0.1, affine=True, track_running_stats=True)\n",
       "      (activ): ELU(alpha=1.0)\n",
       "    )\n",
       "    (3): BasicBlock3d(\n",
       "      (conv): Conv3d(16, 16, kernel_size=(3, 3, 3), stride=(1, 1, 1), padding=(1, 1, 1))\n",
       "      (layer): BatchNorm3d(16, eps=1e-05, momentum=0.1, affine=True, track_running_stats=True)\n",
       "      (activ): ELU(alpha=1.0)\n",
       "    )\n",
       "    (4): BasicBlock3d(\n",
       "      (conv): Conv3d(16, 16, kernel_size=(3, 3, 3), stride=(2, 2, 2), padding=(1, 1, 1))\n",
       "      (layer): BatchNorm3d(16, eps=1e-05, momentum=0.1, affine=True, track_running_stats=True)\n",
       "      (activ): ELU(alpha=1.0)\n",
       "    )\n",
       "    (5): BasicBlock3d(\n",
       "      (conv): Conv3d(16, 32, kernel_size=(3, 3, 3), stride=(1, 1, 1), padding=(1, 1, 1))\n",
       "      (layer): BatchNorm3d(32, eps=1e-05, momentum=0.1, affine=True, track_running_stats=True)\n",
       "      (activ): ELU(alpha=1.0)\n",
       "    )\n",
       "    (6): BasicBlock3d(\n",
       "      (conv): Conv3d(32, 32, kernel_size=(3, 3, 3), stride=(1, 1, 1), padding=(1, 1, 1))\n",
       "      (layer): BatchNorm3d(32, eps=1e-05, momentum=0.1, affine=True, track_running_stats=True)\n",
       "      (activ): ELU(alpha=1.0)\n",
       "    )\n",
       "    (7): BasicBlock3d(\n",
       "      (conv): Conv3d(32, 32, kernel_size=(3, 3, 3), stride=(2, 2, 2), padding=(1, 1, 1))\n",
       "      (layer): BatchNorm3d(32, eps=1e-05, momentum=0.1, affine=True, track_running_stats=True)\n",
       "      (activ): ELU(alpha=1.0)\n",
       "    )\n",
       "  )\n",
       "  (embed): Embedding(581, 32)\n",
       "  (decoder): Sequential(\n",
       "    (0): BasicBlock3d(\n",
       "      (conv): Conv3d(64, 32, kernel_size=(3, 3, 3), stride=(1, 1, 1), padding=(1, 1, 1))\n",
       "      (layer): BatchNorm3d(32, eps=1e-05, momentum=0.1, affine=True, track_running_stats=True)\n",
       "      (activ): ELU(alpha=1.0)\n",
       "    )\n",
       "    (1): BasicBlock3d(\n",
       "      (conv): Conv3d(32, 16, kernel_size=(3, 3, 3), stride=(1, 1, 1), padding=(1, 1, 1))\n",
       "      (layer): BatchNorm3d(16, eps=1e-05, momentum=0.1, affine=True, track_running_stats=True)\n",
       "      (activ): ELU(alpha=1.0)\n",
       "      (upsample): Upsample(scale_factor=2.0, mode=trilinear)\n",
       "    )\n",
       "    (2): BasicBlock3d(\n",
       "      (conv): Conv3d(16, 16, kernel_size=(3, 3, 3), stride=(1, 1, 1), padding=(1, 1, 1))\n",
       "      (layer): BatchNorm3d(16, eps=1e-05, momentum=0.1, affine=True, track_running_stats=True)\n",
       "      (activ): ELU(alpha=1.0)\n",
       "    )\n",
       "    (3): BasicBlock3d(\n",
       "      (conv): Conv3d(16, 16, kernel_size=(3, 3, 3), stride=(1, 1, 1), padding=(1, 1, 1))\n",
       "      (layer): BatchNorm3d(16, eps=1e-05, momentum=0.1, affine=True, track_running_stats=True)\n",
       "      (activ): ELU(alpha=1.0)\n",
       "    )\n",
       "    (4): BasicBlock3d(\n",
       "      (conv): Conv3d(16, 8, kernel_size=(3, 3, 3), stride=(1, 1, 1), padding=(1, 1, 1))\n",
       "      (layer): BatchNorm3d(8, eps=1e-05, momentum=0.1, affine=True, track_running_stats=True)\n",
       "      (activ): ELU(alpha=1.0)\n",
       "      (upsample): Upsample(scale_factor=2.0, mode=trilinear)\n",
       "    )\n",
       "    (5): BasicBlock3d(\n",
       "      (conv): Conv3d(8, 8, kernel_size=(3, 3, 3), stride=(1, 1, 1), padding=(1, 1, 1))\n",
       "      (layer): BatchNorm3d(8, eps=1e-05, momentum=0.1, affine=True, track_running_stats=True)\n",
       "      (activ): ELU(alpha=1.0)\n",
       "    )\n",
       "    (6): BasicBlock3d(\n",
       "      (conv): Conv3d(8, 8, kernel_size=(3, 3, 3), stride=(1, 1, 1), padding=(1, 1, 1))\n",
       "      (layer): BatchNorm3d(8, eps=1e-05, momentum=0.1, affine=True, track_running_stats=True)\n",
       "      (activ): ELU(alpha=1.0)\n",
       "    )\n",
       "    (7): BasicBlock3d(\n",
       "      (conv): Conv3d(8, 8, kernel_size=(3, 3, 3), stride=(1, 1, 1), padding=(1, 1, 1))\n",
       "      (layer): BatchNorm3d(8, eps=1e-05, momentum=0.1, affine=True, track_running_stats=True)\n",
       "      (activ): ELU(alpha=1.0)\n",
       "      (upsample): Upsample(scale_factor=2.0, mode=trilinear)\n",
       "    )\n",
       "    (8): BasicBlock3d(\n",
       "      (conv): Conv3d(8, 1, kernel_size=(3, 3, 3), stride=(1, 1, 1), padding=(1, 1, 1))\n",
       "    )\n",
       "  )\n",
       ")"
      ]
     },
     "execution_count": 385,
     "metadata": {},
     "output_type": "execute_result"
    }
   ],
   "source": [
    "model_B = Unet3dPatchGenerator(1, 1, nn.BatchNorm3d)\n",
    "PATH_B = '/ocean/projects/asc170022p/rohit33/cyclegan_models/checkpoints/copd_emphysema/5_net_G_B.pth'\n",
    "model_B.load_state_dict(torch.load(PATH_B))\n",
    "model_B.eval()"
   ]
  },
  {
   "cell_type": "code",
   "execution_count": 386,
   "metadata": {},
   "outputs": [],
   "source": [
    "patch_idx = 100\n",
    "patch_dir = os.path.join('/ocean/projects/asc170022p/rohit33/emphysemapatches/hi/', str(patch_idx))\n",
    "patch_files = glob.glob(patch_dir + '/*.npy')"
   ]
  },
  {
   "cell_type": "code",
   "execution_count": 387,
   "metadata": {},
   "outputs": [],
   "source": [
    "patch_arr = np.load(patch_files[0])\n",
    "patch_arr_norm = normalize(patch_arr)\n",
    "patch_tensor = torch.from_numpy(patch_arr).unsqueeze(0).unsqueeze(0)\n",
    "fake_B_tensor = model_B(patch_tensor, torch.tensor(patch_idx))\n",
    "fake_B_arr = fake_B_tensor.squeeze(0).squeeze(0).detach().numpy()\n",
    "fake_B_patch_arr = unnormalize(fake_B_arr)"
   ]
  },
  {
   "cell_type": "code",
   "execution_count": 388,
   "metadata": {},
   "outputs": [
    {
     "data": {
      "application/vnd.jupyter.widget-view+json": {
       "model_id": "e2d233982626499a845df869c60fcea1",
       "version_major": 2,
       "version_minor": 0
      },
      "text/plain": [
       "Viewer(axes=True, geometries=[], gradient_opacity=0.9, point_sets=[], rendered_image=<itk.itkImagePython.itkIm…"
      ]
     },
     "metadata": {},
     "output_type": "display_data"
    }
   ],
   "source": [
    "view(patch_arr, axes=True, vmin=4000, vmax=17000, gradient_opacity=0.9)"
   ]
  },
  {
   "cell_type": "code",
   "execution_count": 389,
   "metadata": {},
   "outputs": [
    {
     "data": {
      "application/vnd.jupyter.widget-view+json": {
       "model_id": "a97dab5f191f4854b2fb887c60ee77c8",
       "version_major": 2,
       "version_minor": 0
      },
      "text/plain": [
       "Viewer(axes=True, geometries=[], gradient_opacity=0.9, point_sets=[], rendered_image=<itk.itkImagePython.itkIm…"
      ]
     },
     "metadata": {},
     "output_type": "display_data"
    }
   ],
   "source": [
    "view(fake_B_patch_arr, axes=True, vmin=4000, vmax=17000, gradient_opacity=0.9)"
   ]
  },
  {
   "cell_type": "code",
   "execution_count": null,
   "metadata": {},
   "outputs": [],
   "source": []
  }
 ],
 "metadata": {
  "kernelspec": {
   "display_name": "Python 3",
   "language": "python",
   "name": "python3"
  },
  "language_info": {
   "codemirror_mode": {
    "name": "ipython",
    "version": 3
   },
   "file_extension": ".py",
   "mimetype": "text/x-python",
   "name": "python",
   "nbconvert_exporter": "python",
   "pygments_lexer": "ipython3",
   "version": "3.6.12"
  }
 },
 "nbformat": 4,
 "nbformat_minor": 4
}
